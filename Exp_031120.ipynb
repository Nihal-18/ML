{
  "nbformat": 4,
  "nbformat_minor": 0,
  "metadata": {
    "colab": {
      "name": "Exp_031120.ipynb",
      "provenance": [],
      "mount_file_id": "1gH9V5r5Oaf6g9z1q4L06QLEUUQYgLAKl",
      "authorship_tag": "ABX9TyP7FV0015hbZ2Ztc3Mu8LTB",
      "include_colab_link": true
    },
    "kernelspec": {
      "name": "python3",
      "display_name": "Python 3"
    }
  },
  "cells": [
    {
      "cell_type": "markdown",
      "metadata": {
        "id": "view-in-github",
        "colab_type": "text"
      },
      "source": [
        "<a href=\"https://colab.research.google.com/github/Nihal-18/ML/blob/master/Exp_031120.ipynb\" target=\"_parent\"><img src=\"https://colab.research.google.com/assets/colab-badge.svg\" alt=\"Open In Colab\"/></a>"
      ]
    },
    {
      "cell_type": "markdown",
      "metadata": {
        "id": "ZMv-KNtu6OmJ"
      },
      "source": [
        "NAME: NIHAL M TODANKAR\n",
        "\n",
        "Roll NO: J058\n",
        "\n",
        "B.Tech Data Science\n",
        "\n",
        "J3"
      ]
    },
    {
      "cell_type": "code",
      "metadata": {
        "id": "9rzf6rXNs9Nv"
      },
      "source": [
        "import pandas as pd\n",
        "import numpy as np\n",
        "import matplotlib.pyplot as plt\n",
        "import seaborn as sb"
      ],
      "execution_count": 110,
      "outputs": []
    },
    {
      "cell_type": "code",
      "metadata": {
        "id": "TL0FMgpwvsmS"
      },
      "source": [
        "df= pd.read_csv('/content/drive/My Drive/php8Mz7BG.csv')"
      ],
      "execution_count": 77,
      "outputs": []
    },
    {
      "cell_type": "code",
      "metadata": {
        "id": "YU_N-Lkhv2Br",
        "outputId": "22eab3e1-73fe-4bd2-e811-b783beca0a96",
        "colab": {
          "base_uri": "https://localhost:8080/"
        }
      },
      "source": [
        "df.info()"
      ],
      "execution_count": 78,
      "outputs": [
        {
          "output_type": "stream",
          "text": [
            "<class 'pandas.core.frame.DataFrame'>\n",
            "RangeIndex: 5404 entries, 0 to 5403\n",
            "Data columns (total 6 columns):\n",
            " #   Column  Non-Null Count  Dtype  \n",
            "---  ------  --------------  -----  \n",
            " 0   V1      5404 non-null   float64\n",
            " 1   V2      5404 non-null   float64\n",
            " 2   V3      5404 non-null   float64\n",
            " 3   V4      5404 non-null   float64\n",
            " 4   V5      5404 non-null   float64\n",
            " 5   Class   5404 non-null   int64  \n",
            "dtypes: float64(5), int64(1)\n",
            "memory usage: 253.4 KB\n"
          ],
          "name": "stdout"
        }
      ]
    },
    {
      "cell_type": "code",
      "metadata": {
        "id": "scyqVscqv47X",
        "outputId": "bb4e9bea-2454-41e4-f377-20b120a077b2",
        "colab": {
          "base_uri": "https://localhost:8080/",
          "height": 228
        }
      },
      "source": [
        "df.head()"
      ],
      "execution_count": 79,
      "outputs": [
        {
          "output_type": "execute_result",
          "data": {
            "text/html": [
              "<div>\n",
              "<style scoped>\n",
              "    .dataframe tbody tr th:only-of-type {\n",
              "        vertical-align: middle;\n",
              "    }\n",
              "\n",
              "    .dataframe tbody tr th {\n",
              "        vertical-align: top;\n",
              "    }\n",
              "\n",
              "    .dataframe thead th {\n",
              "        text-align: right;\n",
              "    }\n",
              "</style>\n",
              "<table border=\"1\" class=\"dataframe\">\n",
              "  <thead>\n",
              "    <tr style=\"text-align: right;\">\n",
              "      <th></th>\n",
              "      <th>V1</th>\n",
              "      <th>V2</th>\n",
              "      <th>V3</th>\n",
              "      <th>V4</th>\n",
              "      <th>V5</th>\n",
              "      <th>Class</th>\n",
              "    </tr>\n",
              "  </thead>\n",
              "  <tbody>\n",
              "    <tr>\n",
              "      <th>0</th>\n",
              "      <td>0.489927</td>\n",
              "      <td>-0.451528</td>\n",
              "      <td>-1.047990</td>\n",
              "      <td>-0.598693</td>\n",
              "      <td>-0.020418</td>\n",
              "      <td>1</td>\n",
              "    </tr>\n",
              "    <tr>\n",
              "      <th>1</th>\n",
              "      <td>-0.641265</td>\n",
              "      <td>0.109245</td>\n",
              "      <td>0.292130</td>\n",
              "      <td>-0.916804</td>\n",
              "      <td>0.240223</td>\n",
              "      <td>1</td>\n",
              "    </tr>\n",
              "    <tr>\n",
              "      <th>2</th>\n",
              "      <td>0.870593</td>\n",
              "      <td>-0.459862</td>\n",
              "      <td>0.578159</td>\n",
              "      <td>0.806634</td>\n",
              "      <td>0.835248</td>\n",
              "      <td>1</td>\n",
              "    </tr>\n",
              "    <tr>\n",
              "      <th>3</th>\n",
              "      <td>-0.628439</td>\n",
              "      <td>-0.316284</td>\n",
              "      <td>1.934295</td>\n",
              "      <td>-1.427099</td>\n",
              "      <td>-0.136583</td>\n",
              "      <td>1</td>\n",
              "    </tr>\n",
              "    <tr>\n",
              "      <th>4</th>\n",
              "      <td>-0.596399</td>\n",
              "      <td>0.015938</td>\n",
              "      <td>2.043206</td>\n",
              "      <td>-1.688448</td>\n",
              "      <td>-0.948127</td>\n",
              "      <td>1</td>\n",
              "    </tr>\n",
              "  </tbody>\n",
              "</table>\n",
              "</div>"
            ],
            "text/plain": [
              "         V1        V2        V3        V4        V5  Class\n",
              "0  0.489927 -0.451528 -1.047990 -0.598693 -0.020418      1\n",
              "1 -0.641265  0.109245  0.292130 -0.916804  0.240223      1\n",
              "2  0.870593 -0.459862  0.578159  0.806634  0.835248      1\n",
              "3 -0.628439 -0.316284  1.934295 -1.427099 -0.136583      1\n",
              "4 -0.596399  0.015938  2.043206 -1.688448 -0.948127      1"
            ]
          },
          "metadata": {
            "tags": []
          },
          "execution_count": 79
        }
      ]
    },
    {
      "cell_type": "code",
      "metadata": {
        "id": "z0TfABogv-g8",
        "outputId": "b76a35c3-3dd7-41d8-e887-118be34a8f10",
        "colab": {
          "base_uri": "https://localhost:8080/",
          "height": 228
        }
      },
      "source": [
        "df.tail()"
      ],
      "execution_count": 80,
      "outputs": [
        {
          "output_type": "execute_result",
          "data": {
            "text/html": [
              "<div>\n",
              "<style scoped>\n",
              "    .dataframe tbody tr th:only-of-type {\n",
              "        vertical-align: middle;\n",
              "    }\n",
              "\n",
              "    .dataframe tbody tr th {\n",
              "        vertical-align: top;\n",
              "    }\n",
              "\n",
              "    .dataframe thead th {\n",
              "        text-align: right;\n",
              "    }\n",
              "</style>\n",
              "<table border=\"1\" class=\"dataframe\">\n",
              "  <thead>\n",
              "    <tr style=\"text-align: right;\">\n",
              "      <th></th>\n",
              "      <th>V1</th>\n",
              "      <th>V2</th>\n",
              "      <th>V3</th>\n",
              "      <th>V4</th>\n",
              "      <th>V5</th>\n",
              "      <th>Class</th>\n",
              "    </tr>\n",
              "  </thead>\n",
              "  <tbody>\n",
              "    <tr>\n",
              "      <th>5399</th>\n",
              "      <td>-0.658318</td>\n",
              "      <td>1.331760</td>\n",
              "      <td>-0.081621</td>\n",
              "      <td>1.794253</td>\n",
              "      <td>-1.082181</td>\n",
              "      <td>1</td>\n",
              "    </tr>\n",
              "    <tr>\n",
              "      <th>5400</th>\n",
              "      <td>-0.044375</td>\n",
              "      <td>-0.010512</td>\n",
              "      <td>0.030989</td>\n",
              "      <td>-0.019379</td>\n",
              "      <td>1.281061</td>\n",
              "      <td>2</td>\n",
              "    </tr>\n",
              "    <tr>\n",
              "      <th>5401</th>\n",
              "      <td>0.246882</td>\n",
              "      <td>-0.793228</td>\n",
              "      <td>1.190101</td>\n",
              "      <td>1.423194</td>\n",
              "      <td>-1.303036</td>\n",
              "      <td>2</td>\n",
              "    </tr>\n",
              "    <tr>\n",
              "      <th>5402</th>\n",
              "      <td>-0.778907</td>\n",
              "      <td>-0.383111</td>\n",
              "      <td>1.727029</td>\n",
              "      <td>-1.432389</td>\n",
              "      <td>-1.208085</td>\n",
              "      <td>1</td>\n",
              "    </tr>\n",
              "    <tr>\n",
              "      <th>5403</th>\n",
              "      <td>-0.794604</td>\n",
              "      <td>-0.640053</td>\n",
              "      <td>0.632221</td>\n",
              "      <td>0.720280</td>\n",
              "      <td>-1.231182</td>\n",
              "      <td>2</td>\n",
              "    </tr>\n",
              "  </tbody>\n",
              "</table>\n",
              "</div>"
            ],
            "text/plain": [
              "            V1        V2        V3        V4        V5  Class\n",
              "5399 -0.658318  1.331760 -0.081621  1.794253 -1.082181      1\n",
              "5400 -0.044375 -0.010512  0.030989 -0.019379  1.281061      2\n",
              "5401  0.246882 -0.793228  1.190101  1.423194 -1.303036      2\n",
              "5402 -0.778907 -0.383111  1.727029 -1.432389 -1.208085      1\n",
              "5403 -0.794604 -0.640053  0.632221  0.720280 -1.231182      2"
            ]
          },
          "metadata": {
            "tags": []
          },
          "execution_count": 80
        }
      ]
    },
    {
      "cell_type": "code",
      "metadata": {
        "id": "NebvDIhOwATc",
        "outputId": "335b1c71-c9d8-424e-8c35-08cf85818257",
        "colab": {
          "base_uri": "https://localhost:8080/"
        }
      },
      "source": [
        "df.isna().sum()"
      ],
      "execution_count": 81,
      "outputs": [
        {
          "output_type": "execute_result",
          "data": {
            "text/plain": [
              "V1       0\n",
              "V2       0\n",
              "V3       0\n",
              "V4       0\n",
              "V5       0\n",
              "Class    0\n",
              "dtype: int64"
            ]
          },
          "metadata": {
            "tags": []
          },
          "execution_count": 81
        }
      ]
    },
    {
      "cell_type": "code",
      "metadata": {
        "id": "T5QHypqwwDXS",
        "outputId": "101fcdf4-5f2a-4241-9276-36ea566e9fcb",
        "colab": {
          "base_uri": "https://localhost:8080/"
        }
      },
      "source": [
        "df['Class'].dtype"
      ],
      "execution_count": 82,
      "outputs": [
        {
          "output_type": "execute_result",
          "data": {
            "text/plain": [
              "dtype('int64')"
            ]
          },
          "metadata": {
            "tags": []
          },
          "execution_count": 82
        }
      ]
    },
    {
      "cell_type": "code",
      "metadata": {
        "id": "bsqmNWD5wYFM"
      },
      "source": [
        "Y= df['Class']"
      ],
      "execution_count": 83,
      "outputs": []
    },
    {
      "cell_type": "code",
      "metadata": {
        "id": "pUdjMGXTwX-p"
      },
      "source": [
        "X= df.drop(columns= ['Class'])"
      ],
      "execution_count": 84,
      "outputs": []
    },
    {
      "cell_type": "code",
      "metadata": {
        "id": "py2jRDmZwX3K",
        "outputId": "d05fedf6-721a-4a4c-ce29-8716e7f805f5",
        "colab": {
          "base_uri": "https://localhost:8080/"
        }
      },
      "source": [
        "print('X_shape= ',X.shape)\n",
        "print('\\nY_shape= ',Y.shape)\n",
        "print('\\nDF_shape= ',df.shape)"
      ],
      "execution_count": 32,
      "outputs": [
        {
          "output_type": "stream",
          "text": [
            "X_shape=  (5404, 5)\n",
            "\n",
            "Y_shape=  (5404,)\n",
            "\n",
            "DF_shape=  (5404, 6)\n"
          ],
          "name": "stdout"
        }
      ]
    },
    {
      "cell_type": "code",
      "metadata": {
        "id": "JpVWoMjX01T-"
      },
      "source": [
        "from sklearn.preprocessing import StandardScaler\n",
        "\n",
        "sc= StandardScaler()"
      ],
      "execution_count": 33,
      "outputs": []
    },
    {
      "cell_type": "code",
      "metadata": {
        "id": "1JLV4zpK01Qh"
      },
      "source": [
        "X= sc.fit_transform(X)"
      ],
      "execution_count": 34,
      "outputs": []
    },
    {
      "cell_type": "code",
      "metadata": {
        "id": "Oua_uw9b01Fj",
        "outputId": "554f5a8d-222f-4731-c8dc-1d311aa6f4e6",
        "colab": {
          "base_uri": "https://localhost:8080/"
        }
      },
      "source": [
        "X"
      ],
      "execution_count": 35,
      "outputs": [
        {
          "output_type": "execute_result",
          "data": {
            "text/plain": [
              "array([[ 0.48997233, -0.45156979, -1.04808698, -0.59874839, -0.02041982],\n",
              "       [-0.64132434,  0.1092551 ,  0.29215703, -0.91688883,  0.24024529],\n",
              "       [ 0.87067355, -0.45990456,  0.57821249,  0.80670865,  0.83532534],\n",
              "       ...,\n",
              "       [ 0.24690484, -0.79330141,  1.19021112,  1.42332571, -1.30315649],\n",
              "       [-0.77897908, -0.38314646,  1.72718881, -1.43252154, -1.20819671],\n",
              "       [-0.79467753, -0.64011223,  0.6322795 ,  0.72034666, -1.23129584]])"
            ]
          },
          "metadata": {
            "tags": []
          },
          "execution_count": 35
        }
      ]
    },
    {
      "cell_type": "code",
      "metadata": {
        "id": "6joMRrwbwHIx"
      },
      "source": [
        "from sklearn.model_selection import train_test_split"
      ],
      "execution_count": 85,
      "outputs": []
    },
    {
      "cell_type": "code",
      "metadata": {
        "id": "UdqyfTC-wPru",
        "outputId": "84acee83-00a7-458c-9b1b-130131568d8b",
        "colab": {
          "base_uri": "https://localhost:8080/"
        }
      },
      "source": [
        "X_train, X_test, y_train, y_test= train_test_split(X, Y, random_state= 1, test_size= 0.2)\n",
        "\n",
        "print(X_train.shape, X_test.shape)"
      ],
      "execution_count": 93,
      "outputs": [
        {
          "output_type": "stream",
          "text": [
            "(4323, 5) (1081, 5)\n"
          ],
          "name": "stdout"
        }
      ]
    },
    {
      "cell_type": "code",
      "metadata": {
        "id": "VjD3VKQW1vSF"
      },
      "source": [
        "from keras import models\n",
        "from keras import layers"
      ],
      "execution_count": 94,
      "outputs": []
    },
    {
      "cell_type": "code",
      "metadata": {
        "id": "a59BPjEP16NU",
        "outputId": "b0115154-56e0-4857-dbec-784dea15eb4b",
        "colab": {
          "base_uri": "https://localhost:8080/"
        }
      },
      "source": [
        "nn= models.Sequential()\n",
        "\n",
        "nn.add(layers.Dense(256, activation= 'tanh', input_dim= 5))\n",
        "nn.add(layers.Dense(128, activation= 'relu'))\n",
        "nn.add(layers.Dense(64, activation= 'tanh'))\n",
        "nn.add(layers.Dense(32, activation= 'relu'))\n",
        "nn.add(layers.Dense(1, activation= 'sigmoid'))\n",
        "\n",
        "nn.summary()"
      ],
      "execution_count": 88,
      "outputs": [
        {
          "output_type": "stream",
          "text": [
            "Model: \"sequential_6\"\n",
            "_________________________________________________________________\n",
            "Layer (type)                 Output Shape              Param #   \n",
            "=================================================================\n",
            "dense_30 (Dense)             (None, 256)               1536      \n",
            "_________________________________________________________________\n",
            "dense_31 (Dense)             (None, 128)               32896     \n",
            "_________________________________________________________________\n",
            "dense_32 (Dense)             (None, 64)                8256      \n",
            "_________________________________________________________________\n",
            "dense_33 (Dense)             (None, 32)                2080      \n",
            "_________________________________________________________________\n",
            "dense_34 (Dense)             (None, 1)                 33        \n",
            "=================================================================\n",
            "Total params: 44,801\n",
            "Trainable params: 44,801\n",
            "Non-trainable params: 0\n",
            "_________________________________________________________________\n"
          ],
          "name": "stdout"
        }
      ]
    },
    {
      "cell_type": "code",
      "metadata": {
        "id": "5KswqsAc2lQ9"
      },
      "source": [
        "nn.compile(optimizer= 'adam', loss= ['binary_crossentropy'], metrics= ['accuracy'])"
      ],
      "execution_count": 89,
      "outputs": []
    },
    {
      "cell_type": "code",
      "metadata": {
        "id": "LWvo0_zl29ba",
        "outputId": "4a806c63-32e8-4534-c474-2ff5d2b3e3e7",
        "colab": {
          "base_uri": "https://localhost:8080/"
        }
      },
      "source": [
        "hist= nn.fit(x= X_train, y= y_train, epochs= 10, validation_split= 0.2)"
      ],
      "execution_count": 95,
      "outputs": [
        {
          "output_type": "stream",
          "text": [
            "Epoch 1/10\n",
            "109/109 [==============================] - 0s 2ms/step - loss: -707.0081 - accuracy: 0.7047 - val_loss: -744.0681 - val_accuracy: 0.7156\n",
            "Epoch 2/10\n",
            "109/109 [==============================] - 0s 2ms/step - loss: -837.9742 - accuracy: 0.7047 - val_loss: -874.9775 - val_accuracy: 0.7156\n",
            "Epoch 3/10\n",
            "109/109 [==============================] - 0s 2ms/step - loss: -976.8010 - accuracy: 0.7047 - val_loss: -1013.0476 - val_accuracy: 0.7156\n",
            "Epoch 4/10\n",
            "109/109 [==============================] - 0s 2ms/step - loss: -1125.4622 - accuracy: 0.7047 - val_loss: -1159.5378 - val_accuracy: 0.7156\n",
            "Epoch 5/10\n",
            "109/109 [==============================] - 0s 2ms/step - loss: -1285.4598 - accuracy: 0.7047 - val_loss: -1318.6886 - val_accuracy: 0.7156\n",
            "Epoch 6/10\n",
            "109/109 [==============================] - 0s 2ms/step - loss: -1451.9862 - accuracy: 0.7047 - val_loss: -1484.6501 - val_accuracy: 0.7156\n",
            "Epoch 7/10\n",
            "109/109 [==============================] - 0s 2ms/step - loss: -1629.3274 - accuracy: 0.7047 - val_loss: -1657.8429 - val_accuracy: 0.7156\n",
            "Epoch 8/10\n",
            "109/109 [==============================] - 0s 2ms/step - loss: -1812.3254 - accuracy: 0.7047 - val_loss: -1839.0907 - val_accuracy: 0.7156\n",
            "Epoch 9/10\n",
            "109/109 [==============================] - 0s 2ms/step - loss: -2003.9579 - accuracy: 0.7047 - val_loss: -2027.7189 - val_accuracy: 0.7156\n",
            "Epoch 10/10\n",
            "109/109 [==============================] - 0s 2ms/step - loss: -2208.2322 - accuracy: 0.7047 - val_loss: -2227.6523 - val_accuracy: 0.7156\n"
          ],
          "name": "stdout"
        }
      ]
    },
    {
      "cell_type": "code",
      "metadata": {
        "id": "WwbVrF5z3VKi",
        "outputId": "af62b7a1-a022-4785-f903-ac2f616f6d3d",
        "colab": {
          "base_uri": "https://localhost:8080/"
        }
      },
      "source": [
        "nn.evaluate(x= X_test, y= y_test)"
      ],
      "execution_count": 96,
      "outputs": [
        {
          "output_type": "stream",
          "text": [
            "34/34 [==============================] - 0s 1ms/step - loss: -2311.4973 - accuracy: 0.7049\n"
          ],
          "name": "stdout"
        },
        {
          "output_type": "execute_result",
          "data": {
            "text/plain": [
              "[-2311.497314453125, 0.7049028873443604]"
            ]
          },
          "metadata": {
            "tags": []
          },
          "execution_count": 96
        }
      ]
    },
    {
      "cell_type": "code",
      "metadata": {
        "id": "uFGwLrM_3ymd",
        "outputId": "812c5092-24ad-46a8-c92c-ff168fd8dd64",
        "colab": {
          "base_uri": "https://localhost:8080/",
          "height": 299
        }
      },
      "source": [
        "loss_train = hist.history['loss']\n",
        "loss_val = hist.history['val_loss']\n",
        "epochs = range(1,11)\n",
        "\n",
        "plt.plot(epochs, loss_train, 'k', label='Training loss')\n",
        "plt.plot(epochs, loss_val, 'r', label='validation loss')\n",
        "\n",
        "plt.xlabel('Epochs')\n",
        "plt.ylabel('Loss')\n",
        "plt.legend()\n",
        "plt.show()"
      ],
      "execution_count": 97,
      "outputs": [
        {
          "output_type": "display_data",
          "data": {
            "image/png": "[encoded data removed]",
            "text/plain": [
              "<Figure size 432x288 with 1 Axes>"
            ]
          },
          "metadata": {
            "tags": [],
            "needs_background": "light"
          }
        }
      ]
    },
    {
      "cell_type": "code",
      "metadata": {
        "id": "3f-MoPfx433Y",
        "outputId": "4716581b-78fe-4913-9466-13f398220134",
        "colab": {
          "base_uri": "https://localhost:8080/",
          "height": 315
        }
      },
      "source": [
        "loss_train = hist.history['accuracy']\n",
        "loss_val = hist.history['val_accuracy']\n",
        "\n",
        "epochs = range(1,11)\n",
        "\n",
        "plt.plot(epochs, loss_train, 'k', label='Training accuracy')\n",
        "plt.plot(epochs, loss_val, 'r', label='validation accuracy')\n",
        "\n",
        "plt.title('Training and Validation accuracy')\n",
        "plt.xlabel('Epochs')\n",
        "plt.ylabel('Accuracy')\n",
        "plt.legend()\n",
        "plt.show()"
      ],
      "execution_count": 98,
      "outputs": [
        {
          "output_type": "display_data",
          "data": {
            "image/png": "[encoded data removed]",
            "text/plain": [
              "<Figure size 432x288 with 1 Axes>"
            ]
          },
          "metadata": {
            "tags": [],
            "needs_background": "light"
          }
        }
      ]
    },
    {
      "cell_type": "code",
      "metadata": {
        "id": "Lsgrhh5l4-VO"
      },
      "source": [
        "from sklearn.svm import SVC"
      ],
      "execution_count": 111,
      "outputs": []
    },
    {
      "cell_type": "code",
      "metadata": {
        "id": "nf57NSHU7KJb",
        "outputId": "4dd44280-6414-4b12-ee21-2dd688dc5c91",
        "colab": {
          "base_uri": "https://localhost:8080/"
        }
      },
      "source": [
        "SVCClf = SVC(kernel = 'linear',gamma = 'scale', shrinking = False,)\n",
        "\n",
        "SVCClf.fit(X_train, y_train)"
      ],
      "execution_count": 114,
      "outputs": [
        {
          "output_type": "execute_result",
          "data": {
            "text/plain": [
              "SVC(C=1.0, break_ties=False, cache_size=200, class_weight=None, coef0=0.0,\n",
              "    decision_function_shape='ovr', degree=3, gamma='scale', kernel='linear',\n",
              "    max_iter=-1, probability=False, random_state=None, shrinking=False,\n",
              "    tol=0.001, verbose=False)"
            ]
          },
          "metadata": {
            "tags": []
          },
          "execution_count": 114
        }
      ]
    },
    {
      "cell_type": "code",
      "metadata": {
        "id": "z0zy8sSN7QSX"
      },
      "source": [
        "y_preds= SVCClf.predict(X_test)"
      ],
      "execution_count": 115,
      "outputs": []
    },
    {
      "cell_type": "code",
      "metadata": {
        "id": "AcqPeK1-7X4X",
        "outputId": "2f8cedcc-48f5-49f8-c913-54371d2cebf5",
        "colab": {
          "base_uri": "https://localhost:8080/"
        }
      },
      "source": [
        "from sklearn.metrics import accuracy_score, confusion_matrix\n",
        "\n",
        "print('Accuracy : ', accuracy_score(y_test, y_preds))"
      ],
      "execution_count": 116,
      "outputs": [
        {
          "output_type": "stream",
          "text": [
            "Accuracy :  0.7742830712303422\n"
          ],
          "name": "stdout"
        }
      ]
    },
    {
      "cell_type": "code",
      "metadata": {
        "id": "kaAdIm2e7lhU"
      },
      "source": [
        ""
      ],
      "execution_count": null,
      "outputs": []
    }
  ]
}