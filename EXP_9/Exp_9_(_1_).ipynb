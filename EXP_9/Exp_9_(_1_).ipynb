{
  "nbformat": 4,
  "nbformat_minor": 0,
  "metadata": {
    "colab": {
      "name": "Exp_9_(_1_).ipynb",
      "provenance": [],
      "mount_file_id": "1rP9Pr9hyfuWKA0822tryCrThrLsEh3p9",
      "authorship_tag": "ABX9TyOaUj78ExgukcSOsLlN3nVL",
      "include_colab_link": true
    },
    "kernelspec": {
      "name": "python3",
      "display_name": "Python 3"
    }
  },
  "cells": [
    {
      "cell_type": "markdown",
      "metadata": {
        "id": "view-in-github",
        "colab_type": "text"
      },
      "source": [
        "<a href=\"https://colab.research.google.com/github/Nihal-18/ML/blob/master/EXP_9/Exp_9_(_1_).ipynb\" target=\"_parent\"><img src=\"https://colab.research.google.com/assets/colab-badge.svg\" alt=\"Open In Colab\"/></a>"
      ]
    },
    {
      "cell_type": "markdown",
      "metadata": {
        "id": "RnW3-z10fEh3"
      },
      "source": [
        "NAME: NIHAL M TODANKAR\n",
        "\n",
        "ROLL NO: J058\n",
        "\n",
        "TOPIC: Activity recognition with healthy older people using a batteryless wearable sensor\n",
        "\n",
        "NO.: 11"
      ]
    },
    {
      "cell_type": "code",
      "metadata": {
        "id": "VAixsDPBfAR4"
      },
      "source": [
        "import pandas as pd\n",
        "import numpy as np\n",
        "import matplotlib.pyplot as plt\n",
        "import seaborn as sb\n",
        "\n",
        "import glob\n",
        "import os"
      ],
      "execution_count": 18,
      "outputs": []
    },
    {
      "cell_type": "code",
      "metadata": {
        "id": "yAa01adLhqtQ"
      },
      "source": [
        "s1= '/content/drive/My Drive/Datasets_Healthy_Older_People/S1_Dataset'"
      ],
      "execution_count": 19,
      "outputs": []
    },
    {
      "cell_type": "code",
      "metadata": {
        "id": "aslKOCiKjLLo",
        "outputId": "8fb30228-0914-402b-bbcf-d546e51b7cdc",
        "colab": {
          "base_uri": "https://localhost:8080/"
        }
      },
      "source": [
        "path1= r'/content/drive/My Drive/Datasets_Healthy_Older_People/S1_Dataset'\n",
        "\n",
        "all_files1= glob.glob(path1+'/*')\n",
        "print(all_files1)"
      ],
      "execution_count": 20,
      "outputs": [
        {
          "output_type": "stream",
          "text": [
            "['/content/drive/My Drive/Datasets_Healthy_Older_People/S1_Dataset/d1p02M', '/content/drive/My Drive/Datasets_Healthy_Older_People/S1_Dataset/d1p01M', '/content/drive/My Drive/Datasets_Healthy_Older_People/S1_Dataset/d1p05M', '/content/drive/My Drive/Datasets_Healthy_Older_People/S1_Dataset/d1p03M', '/content/drive/My Drive/Datasets_Healthy_Older_People/S1_Dataset/d1p04M', '/content/drive/My Drive/Datasets_Healthy_Older_People/S1_Dataset/d1p06M', '/content/drive/My Drive/Datasets_Healthy_Older_People/S1_Dataset/d1p09F', '/content/drive/My Drive/Datasets_Healthy_Older_People/S1_Dataset/d1p08F', '/content/drive/My Drive/Datasets_Healthy_Older_People/S1_Dataset/d1p10F', '/content/drive/My Drive/Datasets_Healthy_Older_People/S1_Dataset/d1p07M', '/content/drive/My Drive/Datasets_Healthy_Older_People/S1_Dataset/d1p14F', '/content/drive/My Drive/Datasets_Healthy_Older_People/S1_Dataset/d1p11F', '/content/drive/My Drive/Datasets_Healthy_Older_People/S1_Dataset/d1p12F', '/content/drive/My Drive/Datasets_Healthy_Older_People/S1_Dataset/d1p13F', '/content/drive/My Drive/Datasets_Healthy_Older_People/S1_Dataset/d1p15F', '/content/drive/My Drive/Datasets_Healthy_Older_People/S1_Dataset/d1p17F', '/content/drive/My Drive/Datasets_Healthy_Older_People/S1_Dataset/d1p16F', '/content/drive/My Drive/Datasets_Healthy_Older_People/S1_Dataset/d1p21F', '/content/drive/My Drive/Datasets_Healthy_Older_People/S1_Dataset/d1p20F', '/content/drive/My Drive/Datasets_Healthy_Older_People/S1_Dataset/d1p18F', '/content/drive/My Drive/Datasets_Healthy_Older_People/S1_Dataset/d1p19F', '/content/drive/My Drive/Datasets_Healthy_Older_People/S1_Dataset/d1p28F', '/content/drive/My Drive/Datasets_Healthy_Older_People/S1_Dataset/d1p22F', '/content/drive/My Drive/Datasets_Healthy_Older_People/S1_Dataset/d1p25F', '/content/drive/My Drive/Datasets_Healthy_Older_People/S1_Dataset/d1p23F', '/content/drive/My Drive/Datasets_Healthy_Older_People/S1_Dataset/d1p31F', '/content/drive/My Drive/Datasets_Healthy_Older_People/S1_Dataset/d1p29F', '/content/drive/My Drive/Datasets_Healthy_Older_People/S1_Dataset/d1p27F', '/content/drive/My Drive/Datasets_Healthy_Older_People/S1_Dataset/d1p30F', '/content/drive/My Drive/Datasets_Healthy_Older_People/S1_Dataset/d1p26F', '/content/drive/My Drive/Datasets_Healthy_Older_People/S1_Dataset/d1p24F', '/content/drive/My Drive/Datasets_Healthy_Older_People/S1_Dataset/d1p34F', '/content/drive/My Drive/Datasets_Healthy_Older_People/S1_Dataset/d1p33F', '/content/drive/My Drive/Datasets_Healthy_Older_People/S1_Dataset/d1p35F', '/content/drive/My Drive/Datasets_Healthy_Older_People/S1_Dataset/d1p32F', '/content/drive/My Drive/Datasets_Healthy_Older_People/S1_Dataset/d1p36M', '/content/drive/My Drive/Datasets_Healthy_Older_People/S1_Dataset/d1p37M', '/content/drive/My Drive/Datasets_Healthy_Older_People/S1_Dataset/d1p38M', '/content/drive/My Drive/Datasets_Healthy_Older_People/S1_Dataset/d1p40M', '/content/drive/My Drive/Datasets_Healthy_Older_People/S1_Dataset/d1p39M', '/content/drive/My Drive/Datasets_Healthy_Older_People/S1_Dataset/d1p41M', '/content/drive/My Drive/Datasets_Healthy_Older_People/S1_Dataset/d1p42M', '/content/drive/My Drive/Datasets_Healthy_Older_People/S1_Dataset/d1p43M', '/content/drive/My Drive/Datasets_Healthy_Older_People/S1_Dataset/d1p44M', '/content/drive/My Drive/Datasets_Healthy_Older_People/S1_Dataset/d1p45M', '/content/drive/My Drive/Datasets_Healthy_Older_People/S1_Dataset/d1p46M', '/content/drive/My Drive/Datasets_Healthy_Older_People/S1_Dataset/d1p47M', '/content/drive/My Drive/Datasets_Healthy_Older_People/S1_Dataset/d1p48M', '/content/drive/My Drive/Datasets_Healthy_Older_People/S1_Dataset/d1p49F', '/content/drive/My Drive/Datasets_Healthy_Older_People/S1_Dataset/d1p50F', '/content/drive/My Drive/Datasets_Healthy_Older_People/S1_Dataset/d1p51F', '/content/drive/My Drive/Datasets_Healthy_Older_People/S1_Dataset/d1p52F', '/content/drive/My Drive/Datasets_Healthy_Older_People/S1_Dataset/d1p53F', '/content/drive/My Drive/Datasets_Healthy_Older_People/S1_Dataset/d1p54F', '/content/drive/My Drive/Datasets_Healthy_Older_People/S1_Dataset/d1p55F', '/content/drive/My Drive/Datasets_Healthy_Older_People/S1_Dataset/d1p58F', '/content/drive/My Drive/Datasets_Healthy_Older_People/S1_Dataset/d1p57F', '/content/drive/My Drive/Datasets_Healthy_Older_People/S1_Dataset/d1p56F', '/content/drive/My Drive/Datasets_Healthy_Older_People/S1_Dataset/d1p59F', '/content/drive/My Drive/Datasets_Healthy_Older_People/S1_Dataset/d1p60F']\n"
          ],
          "name": "stdout"
        }
      ]
    },
    {
      "cell_type": "code",
      "metadata": {
        "id": "cyuryGcLqy91"
      },
      "source": [
        "li1=[]\n",
        "for file in all_files1:\n",
        "    #print(file)\n",
        "    if file.endswith('.txt'):\n",
        "        continue\n",
        "    df=pd.read_csv(file,header=None,index_col=None)\n",
        "    li1.append(df)\n",
        "df1=pd.concat(li,axis=0,ignore_index=True)"
      ],
      "execution_count": 21,
      "outputs": []
    },
    {
      "cell_type": "code",
      "metadata": {
        "id": "B8ZWfOL6rLhj",
        "outputId": "e1a62d06-f060-4150-8822-d0148950758d",
        "colab": {
          "base_uri": "https://localhost:8080/",
          "height": 447
        }
      },
      "source": [
        "df1"
      ],
      "execution_count": 22,
      "outputs": [
        {
          "output_type": "execute_result",
          "data": {
            "text/html": [
              "<div>\n",
              "<style scoped>\n",
              "    .dataframe tbody tr th:only-of-type {\n",
              "        vertical-align: middle;\n",
              "    }\n",
              "\n",
              "    .dataframe tbody tr th {\n",
              "        vertical-align: top;\n",
              "    }\n",
              "\n",
              "    .dataframe thead th {\n",
              "        text-align: right;\n",
              "    }\n",
              "</style>\n",
              "<table border=\"1\" class=\"dataframe\">\n",
              "  <thead>\n",
              "    <tr style=\"text-align: right;\">\n",
              "      <th></th>\n",
              "      <th>0</th>\n",
              "      <th>1</th>\n",
              "      <th>2</th>\n",
              "      <th>3</th>\n",
              "      <th>4</th>\n",
              "      <th>5</th>\n",
              "      <th>6</th>\n",
              "      <th>7</th>\n",
              "      <th>8</th>\n",
              "    </tr>\n",
              "  </thead>\n",
              "  <tbody>\n",
              "    <tr>\n",
              "      <th>0</th>\n",
              "      <td>0.00</td>\n",
              "      <td>-0.044557</td>\n",
              "      <td>0.93932</td>\n",
              "      <td>0.111750</td>\n",
              "      <td>1</td>\n",
              "      <td>-58.0</td>\n",
              "      <td>0.17794</td>\n",
              "      <td>920.75</td>\n",
              "      <td>4</td>\n",
              "    </tr>\n",
              "    <tr>\n",
              "      <th>1</th>\n",
              "      <td>0.25</td>\n",
              "      <td>-0.044557</td>\n",
              "      <td>0.93932</td>\n",
              "      <td>0.111750</td>\n",
              "      <td>1</td>\n",
              "      <td>-60.0</td>\n",
              "      <td>0.46940</td>\n",
              "      <td>920.25</td>\n",
              "      <td>4</td>\n",
              "    </tr>\n",
              "    <tr>\n",
              "      <th>2</th>\n",
              "      <td>0.75</td>\n",
              "      <td>-0.044557</td>\n",
              "      <td>0.93932</td>\n",
              "      <td>0.111750</td>\n",
              "      <td>3</td>\n",
              "      <td>-68.5</td>\n",
              "      <td>0.15033</td>\n",
              "      <td>923.25</td>\n",
              "      <td>1</td>\n",
              "    </tr>\n",
              "    <tr>\n",
              "      <th>3</th>\n",
              "      <td>1.50</td>\n",
              "      <td>-0.044557</td>\n",
              "      <td>0.93932</td>\n",
              "      <td>0.111750</td>\n",
              "      <td>4</td>\n",
              "      <td>-57.5</td>\n",
              "      <td>5.10820</td>\n",
              "      <td>925.75</td>\n",
              "      <td>1</td>\n",
              "    </tr>\n",
              "    <tr>\n",
              "      <th>4</th>\n",
              "      <td>2.50</td>\n",
              "      <td>0.612070</td>\n",
              "      <td>0.89339</td>\n",
              "      <td>0.009122</td>\n",
              "      <td>4</td>\n",
              "      <td>-57.5</td>\n",
              "      <td>4.39490</td>\n",
              "      <td>920.75</td>\n",
              "      <td>1</td>\n",
              "    </tr>\n",
              "    <tr>\n",
              "      <th>...</th>\n",
              "      <td>...</td>\n",
              "      <td>...</td>\n",
              "      <td>...</td>\n",
              "      <td>...</td>\n",
              "      <td>...</td>\n",
              "      <td>...</td>\n",
              "      <td>...</td>\n",
              "      <td>...</td>\n",
              "      <td>...</td>\n",
              "    </tr>\n",
              "    <tr>\n",
              "      <th>52477</th>\n",
              "      <td>485.00</td>\n",
              "      <td>0.330660</td>\n",
              "      <td>0.95081</td>\n",
              "      <td>-0.230340</td>\n",
              "      <td>1</td>\n",
              "      <td>-57.0</td>\n",
              "      <td>6.21880</td>\n",
              "      <td>921.75</td>\n",
              "      <td>1</td>\n",
              "    </tr>\n",
              "    <tr>\n",
              "      <th>52478</th>\n",
              "      <td>485.08</td>\n",
              "      <td>0.330660</td>\n",
              "      <td>0.95081</td>\n",
              "      <td>-0.230340</td>\n",
              "      <td>3</td>\n",
              "      <td>-58.0</td>\n",
              "      <td>0.88050</td>\n",
              "      <td>921.75</td>\n",
              "      <td>1</td>\n",
              "    </tr>\n",
              "    <tr>\n",
              "      <th>52479</th>\n",
              "      <td>485.50</td>\n",
              "      <td>0.330660</td>\n",
              "      <td>0.95081</td>\n",
              "      <td>-0.230340</td>\n",
              "      <td>1</td>\n",
              "      <td>-60.5</td>\n",
              "      <td>5.00540</td>\n",
              "      <td>924.75</td>\n",
              "      <td>1</td>\n",
              "    </tr>\n",
              "    <tr>\n",
              "      <th>52480</th>\n",
              "      <td>488.25</td>\n",
              "      <td>0.119600</td>\n",
              "      <td>0.82449</td>\n",
              "      <td>0.009122</td>\n",
              "      <td>4</td>\n",
              "      <td>-56.0</td>\n",
              "      <td>4.90870</td>\n",
              "      <td>925.75</td>\n",
              "      <td>4</td>\n",
              "    </tr>\n",
              "    <tr>\n",
              "      <th>52481</th>\n",
              "      <td>488.75</td>\n",
              "      <td>0.072698</td>\n",
              "      <td>1.31830</td>\n",
              "      <td>0.009122</td>\n",
              "      <td>4</td>\n",
              "      <td>-56.5</td>\n",
              "      <td>1.03700</td>\n",
              "      <td>922.75</td>\n",
              "      <td>4</td>\n",
              "    </tr>\n",
              "  </tbody>\n",
              "</table>\n",
              "<p>52482 rows × 9 columns</p>\n",
              "</div>"
            ],
            "text/plain": [
              "            0         1        2         3  4     5        6       7  8\n",
              "0        0.00 -0.044557  0.93932  0.111750  1 -58.0  0.17794  920.75  4\n",
              "1        0.25 -0.044557  0.93932  0.111750  1 -60.0  0.46940  920.25  4\n",
              "2        0.75 -0.044557  0.93932  0.111750  3 -68.5  0.15033  923.25  1\n",
              "3        1.50 -0.044557  0.93932  0.111750  4 -57.5  5.10820  925.75  1\n",
              "4        2.50  0.612070  0.89339  0.009122  4 -57.5  4.39490  920.75  1\n",
              "...       ...       ...      ...       ... ..   ...      ...     ... ..\n",
              "52477  485.00  0.330660  0.95081 -0.230340  1 -57.0  6.21880  921.75  1\n",
              "52478  485.08  0.330660  0.95081 -0.230340  3 -58.0  0.88050  921.75  1\n",
              "52479  485.50  0.330660  0.95081 -0.230340  1 -60.5  5.00540  924.75  1\n",
              "52480  488.25  0.119600  0.82449  0.009122  4 -56.0  4.90870  925.75  4\n",
              "52481  488.75  0.072698  1.31830  0.009122  4 -56.5  1.03700  922.75  4\n",
              "\n",
              "[52482 rows x 9 columns]"
            ]
          },
          "metadata": {
            "tags": []
          },
          "execution_count": 22
        }
      ]
    },
    {
      "cell_type": "code",
      "metadata": {
        "id": "ShQUCRRorT7E",
        "outputId": "4e7f01d0-b991-45a8-b425-1afd2af79032",
        "colab": {
          "base_uri": "https://localhost:8080/",
          "height": 228
        }
      },
      "source": [
        "df1.columns=['Time','Acc. Front','Acc. vert','Acc. Lat','id','RSSI','Phase','Freq','Activity Label']\n",
        "df1.head()"
      ],
      "execution_count": 23,
      "outputs": [
        {
          "output_type": "execute_result",
          "data": {
            "text/html": [
              "<div>\n",
              "<style scoped>\n",
              "    .dataframe tbody tr th:only-of-type {\n",
              "        vertical-align: middle;\n",
              "    }\n",
              "\n",
              "    .dataframe tbody tr th {\n",
              "        vertical-align: top;\n",
              "    }\n",
              "\n",
              "    .dataframe thead th {\n",
              "        text-align: right;\n",
              "    }\n",
              "</style>\n",
              "<table border=\"1\" class=\"dataframe\">\n",
              "  <thead>\n",
              "    <tr style=\"text-align: right;\">\n",
              "      <th></th>\n",
              "      <th>Time</th>\n",
              "      <th>Acc. Front</th>\n",
              "      <th>Acc. vert</th>\n",
              "      <th>Acc. Lat</th>\n",
              "      <th>id</th>\n",
              "      <th>RSSI</th>\n",
              "      <th>Phase</th>\n",
              "      <th>Freq</th>\n",
              "      <th>Activity Label</th>\n",
              "    </tr>\n",
              "  </thead>\n",
              "  <tbody>\n",
              "    <tr>\n",
              "      <th>0</th>\n",
              "      <td>0.00</td>\n",
              "      <td>-0.044557</td>\n",
              "      <td>0.93932</td>\n",
              "      <td>0.111750</td>\n",
              "      <td>1</td>\n",
              "      <td>-58.0</td>\n",
              "      <td>0.17794</td>\n",
              "      <td>920.75</td>\n",
              "      <td>4</td>\n",
              "    </tr>\n",
              "    <tr>\n",
              "      <th>1</th>\n",
              "      <td>0.25</td>\n",
              "      <td>-0.044557</td>\n",
              "      <td>0.93932</td>\n",
              "      <td>0.111750</td>\n",
              "      <td>1</td>\n",
              "      <td>-60.0</td>\n",
              "      <td>0.46940</td>\n",
              "      <td>920.25</td>\n",
              "      <td>4</td>\n",
              "    </tr>\n",
              "    <tr>\n",
              "      <th>2</th>\n",
              "      <td>0.75</td>\n",
              "      <td>-0.044557</td>\n",
              "      <td>0.93932</td>\n",
              "      <td>0.111750</td>\n",
              "      <td>3</td>\n",
              "      <td>-68.5</td>\n",
              "      <td>0.15033</td>\n",
              "      <td>923.25</td>\n",
              "      <td>1</td>\n",
              "    </tr>\n",
              "    <tr>\n",
              "      <th>3</th>\n",
              "      <td>1.50</td>\n",
              "      <td>-0.044557</td>\n",
              "      <td>0.93932</td>\n",
              "      <td>0.111750</td>\n",
              "      <td>4</td>\n",
              "      <td>-57.5</td>\n",
              "      <td>5.10820</td>\n",
              "      <td>925.75</td>\n",
              "      <td>1</td>\n",
              "    </tr>\n",
              "    <tr>\n",
              "      <th>4</th>\n",
              "      <td>2.50</td>\n",
              "      <td>0.612070</td>\n",
              "      <td>0.89339</td>\n",
              "      <td>0.009122</td>\n",
              "      <td>4</td>\n",
              "      <td>-57.5</td>\n",
              "      <td>4.39490</td>\n",
              "      <td>920.75</td>\n",
              "      <td>1</td>\n",
              "    </tr>\n",
              "  </tbody>\n",
              "</table>\n",
              "</div>"
            ],
            "text/plain": [
              "   Time  Acc. Front  Acc. vert  Acc. Lat  ...  RSSI    Phase    Freq  Activity Label\n",
              "0  0.00   -0.044557    0.93932  0.111750  ... -58.0  0.17794  920.75               4\n",
              "1  0.25   -0.044557    0.93932  0.111750  ... -60.0  0.46940  920.25               4\n",
              "2  0.75   -0.044557    0.93932  0.111750  ... -68.5  0.15033  923.25               1\n",
              "3  1.50   -0.044557    0.93932  0.111750  ... -57.5  5.10820  925.75               1\n",
              "4  2.50    0.612070    0.89339  0.009122  ... -57.5  4.39490  920.75               1\n",
              "\n",
              "[5 rows x 9 columns]"
            ]
          },
          "metadata": {
            "tags": []
          },
          "execution_count": 23
        }
      ]
    },
    {
      "cell_type": "code",
      "metadata": {
        "id": "W0-l_H9Tr-rY",
        "outputId": "7c4087f5-b7bb-4929-b012-229564f14a3e",
        "colab": {
          "base_uri": "https://localhost:8080/"
        }
      },
      "source": [
        "df1.isna().sum()"
      ],
      "execution_count": 24,
      "outputs": [
        {
          "output_type": "execute_result",
          "data": {
            "text/plain": [
              "Time              0\n",
              "Acc. Front        0\n",
              "Acc. vert         0\n",
              "Acc. Lat          0\n",
              "id                0\n",
              "RSSI              0\n",
              "Phase             0\n",
              "Freq              0\n",
              "Activity Label    0\n",
              "dtype: int64"
            ]
          },
          "metadata": {
            "tags": []
          },
          "execution_count": 24
        }
      ]
    },
    {
      "cell_type": "code",
      "metadata": {
        "id": "M-vxtQzKsC52",
        "outputId": "5e054497-de76-4a3f-93df-52724908fa79",
        "colab": {
          "base_uri": "https://localhost:8080/"
        }
      },
      "source": [
        "df.info()"
      ],
      "execution_count": 25,
      "outputs": [
        {
          "output_type": "stream",
          "text": [
            "<class 'pandas.core.frame.DataFrame'>\n",
            "RangeIndex: 724 entries, 0 to 723\n",
            "Data columns (total 9 columns):\n",
            " #   Column  Non-Null Count  Dtype  \n",
            "---  ------  --------------  -----  \n",
            " 0   0       724 non-null    float64\n",
            " 1   1       724 non-null    float64\n",
            " 2   2       724 non-null    float64\n",
            " 3   3       724 non-null    float64\n",
            " 4   4       724 non-null    int64  \n",
            " 5   5       724 non-null    float64\n",
            " 6   6       724 non-null    float64\n",
            " 7   7       724 non-null    float64\n",
            " 8   8       724 non-null    int64  \n",
            "dtypes: float64(7), int64(2)\n",
            "memory usage: 51.0 KB\n"
          ],
          "name": "stdout"
        }
      ]
    },
    {
      "cell_type": "code",
      "metadata": {
        "id": "qa-FC1UZsEeR"
      },
      "source": [
        "y= df1['Activity Label']"
      ],
      "execution_count": 26,
      "outputs": []
    },
    {
      "cell_type": "code",
      "metadata": {
        "id": "K99zyDZysN1L"
      },
      "source": [
        "X= df1.drop(columns= ['id', 'Activity Label', 'Time'])"
      ],
      "execution_count": 29,
      "outputs": []
    },
    {
      "cell_type": "code",
      "metadata": {
        "id": "yE7yFZg5sdRL",
        "outputId": "2e1c6b48-abbb-491c-ecbd-39a0123e8790",
        "colab": {
          "base_uri": "https://localhost:8080/",
          "height": 447
        }
      },
      "source": [
        "X"
      ],
      "execution_count": 30,
      "outputs": [
        {
          "output_type": "execute_result",
          "data": {
            "text/html": [
              "<div>\n",
              "<style scoped>\n",
              "    .dataframe tbody tr th:only-of-type {\n",
              "        vertical-align: middle;\n",
              "    }\n",
              "\n",
              "    .dataframe tbody tr th {\n",
              "        vertical-align: top;\n",
              "    }\n",
              "\n",
              "    .dataframe thead th {\n",
              "        text-align: right;\n",
              "    }\n",
              "</style>\n",
              "<table border=\"1\" class=\"dataframe\">\n",
              "  <thead>\n",
              "    <tr style=\"text-align: right;\">\n",
              "      <th></th>\n",
              "      <th>Acc. Front</th>\n",
              "      <th>Acc. vert</th>\n",
              "      <th>Acc. Lat</th>\n",
              "      <th>RSSI</th>\n",
              "      <th>Phase</th>\n",
              "      <th>Freq</th>\n",
              "    </tr>\n",
              "  </thead>\n",
              "  <tbody>\n",
              "    <tr>\n",
              "      <th>0</th>\n",
              "      <td>-0.044557</td>\n",
              "      <td>0.93932</td>\n",
              "      <td>0.111750</td>\n",
              "      <td>-58.0</td>\n",
              "      <td>0.17794</td>\n",
              "      <td>920.75</td>\n",
              "    </tr>\n",
              "    <tr>\n",
              "      <th>1</th>\n",
              "      <td>-0.044557</td>\n",
              "      <td>0.93932</td>\n",
              "      <td>0.111750</td>\n",
              "      <td>-60.0</td>\n",
              "      <td>0.46940</td>\n",
              "      <td>920.25</td>\n",
              "    </tr>\n",
              "    <tr>\n",
              "      <th>2</th>\n",
              "      <td>-0.044557</td>\n",
              "      <td>0.93932</td>\n",
              "      <td>0.111750</td>\n",
              "      <td>-68.5</td>\n",
              "      <td>0.15033</td>\n",
              "      <td>923.25</td>\n",
              "    </tr>\n",
              "    <tr>\n",
              "      <th>3</th>\n",
              "      <td>-0.044557</td>\n",
              "      <td>0.93932</td>\n",
              "      <td>0.111750</td>\n",
              "      <td>-57.5</td>\n",
              "      <td>5.10820</td>\n",
              "      <td>925.75</td>\n",
              "    </tr>\n",
              "    <tr>\n",
              "      <th>4</th>\n",
              "      <td>0.612070</td>\n",
              "      <td>0.89339</td>\n",
              "      <td>0.009122</td>\n",
              "      <td>-57.5</td>\n",
              "      <td>4.39490</td>\n",
              "      <td>920.75</td>\n",
              "    </tr>\n",
              "    <tr>\n",
              "      <th>...</th>\n",
              "      <td>...</td>\n",
              "      <td>...</td>\n",
              "      <td>...</td>\n",
              "      <td>...</td>\n",
              "      <td>...</td>\n",
              "      <td>...</td>\n",
              "    </tr>\n",
              "    <tr>\n",
              "      <th>52477</th>\n",
              "      <td>0.330660</td>\n",
              "      <td>0.95081</td>\n",
              "      <td>-0.230340</td>\n",
              "      <td>-57.0</td>\n",
              "      <td>6.21880</td>\n",
              "      <td>921.75</td>\n",
              "    </tr>\n",
              "    <tr>\n",
              "      <th>52478</th>\n",
              "      <td>0.330660</td>\n",
              "      <td>0.95081</td>\n",
              "      <td>-0.230340</td>\n",
              "      <td>-58.0</td>\n",
              "      <td>0.88050</td>\n",
              "      <td>921.75</td>\n",
              "    </tr>\n",
              "    <tr>\n",
              "      <th>52479</th>\n",
              "      <td>0.330660</td>\n",
              "      <td>0.95081</td>\n",
              "      <td>-0.230340</td>\n",
              "      <td>-60.5</td>\n",
              "      <td>5.00540</td>\n",
              "      <td>924.75</td>\n",
              "    </tr>\n",
              "    <tr>\n",
              "      <th>52480</th>\n",
              "      <td>0.119600</td>\n",
              "      <td>0.82449</td>\n",
              "      <td>0.009122</td>\n",
              "      <td>-56.0</td>\n",
              "      <td>4.90870</td>\n",
              "      <td>925.75</td>\n",
              "    </tr>\n",
              "    <tr>\n",
              "      <th>52481</th>\n",
              "      <td>0.072698</td>\n",
              "      <td>1.31830</td>\n",
              "      <td>0.009122</td>\n",
              "      <td>-56.5</td>\n",
              "      <td>1.03700</td>\n",
              "      <td>922.75</td>\n",
              "    </tr>\n",
              "  </tbody>\n",
              "</table>\n",
              "<p>52482 rows × 6 columns</p>\n",
              "</div>"
            ],
            "text/plain": [
              "       Acc. Front  Acc. vert  Acc. Lat  RSSI    Phase    Freq\n",
              "0       -0.044557    0.93932  0.111750 -58.0  0.17794  920.75\n",
              "1       -0.044557    0.93932  0.111750 -60.0  0.46940  920.25\n",
              "2       -0.044557    0.93932  0.111750 -68.5  0.15033  923.25\n",
              "3       -0.044557    0.93932  0.111750 -57.5  5.10820  925.75\n",
              "4        0.612070    0.89339  0.009122 -57.5  4.39490  920.75\n",
              "...           ...        ...       ...   ...      ...     ...\n",
              "52477    0.330660    0.95081 -0.230340 -57.0  6.21880  921.75\n",
              "52478    0.330660    0.95081 -0.230340 -58.0  0.88050  921.75\n",
              "52479    0.330660    0.95081 -0.230340 -60.5  5.00540  924.75\n",
              "52480    0.119600    0.82449  0.009122 -56.0  4.90870  925.75\n",
              "52481    0.072698    1.31830  0.009122 -56.5  1.03700  922.75\n",
              "\n",
              "[52482 rows x 6 columns]"
            ]
          },
          "metadata": {
            "tags": []
          },
          "execution_count": 30
        }
      ]
    },
    {
      "cell_type": "code",
      "metadata": {
        "id": "zYp5I8nIsu-v",
        "outputId": "293faed2-90a9-4334-ec87-80c2a17b4ae9",
        "colab": {
          "base_uri": "https://localhost:8080/"
        }
      },
      "source": [
        "X.shape"
      ],
      "execution_count": 31,
      "outputs": [
        {
          "output_type": "execute_result",
          "data": {
            "text/plain": [
              "(52482, 6)"
            ]
          },
          "metadata": {
            "tags": []
          },
          "execution_count": 31
        }
      ]
    },
    {
      "cell_type": "code",
      "metadata": {
        "id": "xNtpGvk7sxb6",
        "outputId": "f95ff1d7-f894-4cb6-b3ff-cec644e42ff5",
        "colab": {
          "base_uri": "https://localhost:8080/"
        }
      },
      "source": [
        "y.shape"
      ],
      "execution_count": 32,
      "outputs": [
        {
          "output_type": "execute_result",
          "data": {
            "text/plain": [
              "(52482,)"
            ]
          },
          "metadata": {
            "tags": []
          },
          "execution_count": 32
        }
      ]
    },
    {
      "cell_type": "code",
      "metadata": {
        "id": "4os-c8DHszlN"
      },
      "source": [
        "from sklearn.preprocessing import StandardScaler\n",
        "\n",
        "sc= StandardScaler()"
      ],
      "execution_count": 33,
      "outputs": []
    },
    {
      "cell_type": "code",
      "metadata": {
        "id": "bP-TpR9Es7pO"
      },
      "source": [
        "X= sc.fit_transform(X)"
      ],
      "execution_count": 36,
      "outputs": []
    },
    {
      "cell_type": "code",
      "metadata": {
        "id": "XQMEBvX0tYBW",
        "outputId": "8cf7efad-ab2c-465c-cb2a-d54ccd628f5d",
        "colab": {
          "base_uri": "https://localhost:8080/"
        }
      },
      "source": [
        "X"
      ],
      "execution_count": 37,
      "outputs": [
        {
          "output_type": "execute_result",
          "data": {
            "text/plain": [
              "array([[-2.14351269,  1.19753155,  0.57584866,  0.09342831, -1.38282314,\n",
              "        -1.18804872],\n",
              "       [-2.14351269,  1.19753155,  0.57584866, -0.34030053, -1.25272566,\n",
              "        -1.48325111],\n",
              "       [-2.14351269,  1.19753155,  0.57584866, -2.18364813, -1.39514727,\n",
              "         0.28796323],\n",
              "       ...,\n",
              "       [-1.19685166,  1.22203599, -1.31758289, -0.44873275,  0.77198499,\n",
              "         1.17357041],\n",
              "       [-1.72934959,  0.95263647,  0.00781587,  0.52715716,  0.72882151,\n",
              "         1.76397519],\n",
              "       [-1.84768191,  2.00577277,  0.00781587,  0.41872494, -0.99936901,\n",
              "        -0.00723916]])"
            ]
          },
          "metadata": {
            "tags": []
          },
          "execution_count": 37
        }
      ]
    },
    {
      "cell_type": "code",
      "metadata": {
        "id": "sXY1cgcRu4ea"
      },
      "source": [
        ""
      ],
      "execution_count": null,
      "outputs": []
    },
    {
      "cell_type": "code",
      "metadata": {
        "id": "JzsoaGm1tZD0"
      },
      "source": [
        "from sklearn.model_selection import train_test_split\n",
        "\n",
        "X_train, X_test, y_train, y_test= train_test_split(X, y, test_size= 0.2, random_state= 9)"
      ],
      "execution_count": 72,
      "outputs": []
    },
    {
      "cell_type": "code",
      "metadata": {
        "id": "fiilqYEnty91",
        "outputId": "485d2c89-255e-497f-b5a7-29f81ef3db34",
        "colab": {
          "base_uri": "https://localhost:8080/"
        }
      },
      "source": [
        "print('X_train Shape= ',X_train.shape)\n",
        "print('X_test Shape= ',X_test.shape)\n",
        "print('Y_train Shape= ',y_train.shape)\n",
        "print('Y_test Shape= ',y_test.shape)"
      ],
      "execution_count": 73,
      "outputs": [
        {
          "output_type": "stream",
          "text": [
            "X_train Shape=  (41985, 6)\n",
            "X_test Shape=  (10497, 6)\n",
            "Y_train Shape=  (41985,)\n",
            "Y_test Shape=  (10497,)\n"
          ],
          "name": "stdout"
        }
      ]
    },
    {
      "cell_type": "code",
      "metadata": {
        "id": "tMM-r1uLxL0K"
      },
      "source": [
        "y_tr= y_train\n",
        "\n",
        "t_te= y_test"
      ],
      "execution_count": 74,
      "outputs": []
    },
    {
      "cell_type": "code",
      "metadata": {
        "id": "m7Erbj8uuSX8"
      },
      "source": [
        "from keras import models\n",
        "from keras import layers\n",
        "\n",
        "from keras.utils import to_categorical"
      ],
      "execution_count": 75,
      "outputs": []
    },
    {
      "cell_type": "code",
      "metadata": {
        "id": "wyrZw_LGvDK7"
      },
      "source": [
        "y_train= to_categorical(y_train)\n",
        "y_test= to_categorical(y_test)"
      ],
      "execution_count": 76,
      "outputs": []
    },
    {
      "cell_type": "code",
      "metadata": {
        "id": "GLHAPCCHvIZd",
        "outputId": "43c28cf3-2f74-4026-ac3d-5a5067250b1d",
        "colab": {
          "base_uri": "https://localhost:8080/"
        }
      },
      "source": [
        "print('Y_train Shape= ',y_train.shape)\n",
        "print('Y_test Shape= ',y_test.shape)"
      ],
      "execution_count": 77,
      "outputs": [
        {
          "output_type": "stream",
          "text": [
            "Y_train Shape=  (41985, 5)\n",
            "Y_test Shape=  (10497, 5)\n"
          ],
          "name": "stdout"
        }
      ]
    },
    {
      "cell_type": "code",
      "metadata": {
        "id": "t2nxCoQPu_H7",
        "outputId": "9146afc3-eaa9-4432-8220-bed38b2ec00d",
        "colab": {
          "base_uri": "https://localhost:8080/"
        }
      },
      "source": [
        "nn= models.Sequential()\n",
        "\n",
        "nn.add(layers.Dense(256, activation= 'tanh', input_dim= 6))\n",
        "nn.add(layers.Dense(128, activation= 'relu'))\n",
        "nn.add(layers.Dense(64, activation= 'relu'))\n",
        "nn.add(layers.Dense(5, activation= 'softmax'))\n",
        "\n",
        "nn.summary()"
      ],
      "execution_count": 66,
      "outputs": [
        {
          "output_type": "stream",
          "text": [
            "Model: \"sequential_5\"\n",
            "_________________________________________________________________\n",
            "Layer (type)                 Output Shape              Param #   \n",
            "=================================================================\n",
            "dense_20 (Dense)             (None, 256)               1792      \n",
            "_________________________________________________________________\n",
            "dense_21 (Dense)             (None, 128)               32896     \n",
            "_________________________________________________________________\n",
            "dense_22 (Dense)             (None, 64)                8256      \n",
            "_________________________________________________________________\n",
            "dense_23 (Dense)             (None, 5)                 325       \n",
            "=================================================================\n",
            "Total params: 43,269\n",
            "Trainable params: 43,269\n",
            "Non-trainable params: 0\n",
            "_________________________________________________________________\n"
          ],
          "name": "stdout"
        }
      ]
    },
    {
      "cell_type": "code",
      "metadata": {
        "id": "AS7KoQIFvOnC"
      },
      "source": [
        "nn.compile(optimizer= 'adam', loss= ['categorical_crossentropy'], metrics= ['accuracy'])"
      ],
      "execution_count": 67,
      "outputs": []
    },
    {
      "cell_type": "code",
      "metadata": {
        "id": "ZbUUjbTcvas8",
        "outputId": "a0025de9-c8a8-46c9-9cd8-a8144ee5bdf0",
        "colab": {
          "base_uri": "https://localhost:8080/"
        }
      },
      "source": [
        "hist= nn.fit(X_train, y_train, epochs= 50, validation_split= 0.2)"
      ],
      "execution_count": 68,
      "outputs": [
        {
          "output_type": "stream",
          "text": [
            "Epoch 1/50\n",
            "1050/1050 [==============================] - 2s 2ms/step - loss: 0.2478 - accuracy: 0.9103 - val_loss: 0.1945 - val_accuracy: 0.9295\n",
            "Epoch 2/50\n",
            "1050/1050 [==============================] - 2s 1ms/step - loss: 0.2067 - accuracy: 0.9221 - val_loss: 0.1886 - val_accuracy: 0.9324\n",
            "Epoch 3/50\n",
            "1050/1050 [==============================] - 2s 1ms/step - loss: 0.1964 - accuracy: 0.9266 - val_loss: 0.1752 - val_accuracy: 0.9365\n",
            "Epoch 4/50\n",
            "1050/1050 [==============================] - 2s 1ms/step - loss: 0.1882 - accuracy: 0.9302 - val_loss: 0.1838 - val_accuracy: 0.9307\n",
            "Epoch 5/50\n",
            "1050/1050 [==============================] - 1s 1ms/step - loss: 0.1852 - accuracy: 0.9309 - val_loss: 0.1720 - val_accuracy: 0.9345\n",
            "Epoch 6/50\n",
            "1050/1050 [==============================] - 2s 1ms/step - loss: 0.1793 - accuracy: 0.9341 - val_loss: 0.1743 - val_accuracy: 0.9335\n",
            "Epoch 7/50\n",
            "1050/1050 [==============================] - 2s 2ms/step - loss: 0.1752 - accuracy: 0.9357 - val_loss: 0.1758 - val_accuracy: 0.9371\n",
            "Epoch 8/50\n",
            "1050/1050 [==============================] - 2s 1ms/step - loss: 0.1727 - accuracy: 0.9361 - val_loss: 0.1581 - val_accuracy: 0.9409\n",
            "Epoch 9/50\n",
            "1050/1050 [==============================] - 2s 1ms/step - loss: 0.1689 - accuracy: 0.9365 - val_loss: 0.1581 - val_accuracy: 0.9415\n",
            "Epoch 10/50\n",
            "1050/1050 [==============================] - 2s 2ms/step - loss: 0.1644 - accuracy: 0.9393 - val_loss: 0.1678 - val_accuracy: 0.9411\n",
            "Epoch 11/50\n",
            "1050/1050 [==============================] - 2s 2ms/step - loss: 0.1626 - accuracy: 0.9407 - val_loss: 0.1553 - val_accuracy: 0.9447\n",
            "Epoch 12/50\n",
            "1050/1050 [==============================] - 2s 2ms/step - loss: 0.1600 - accuracy: 0.9401 - val_loss: 0.1519 - val_accuracy: 0.9471\n",
            "Epoch 13/50\n",
            "1050/1050 [==============================] - 2s 2ms/step - loss: 0.1560 - accuracy: 0.9423 - val_loss: 0.1530 - val_accuracy: 0.9440\n",
            "Epoch 14/50\n",
            "1050/1050 [==============================] - 2s 2ms/step - loss: 0.1548 - accuracy: 0.9425 - val_loss: 0.1608 - val_accuracy: 0.9411\n",
            "Epoch 15/50\n",
            "1050/1050 [==============================] - 2s 1ms/step - loss: 0.1523 - accuracy: 0.9424 - val_loss: 0.1538 - val_accuracy: 0.9428\n",
            "Epoch 16/50\n",
            "1050/1050 [==============================] - 2s 2ms/step - loss: 0.1499 - accuracy: 0.9442 - val_loss: 0.1487 - val_accuracy: 0.9462\n",
            "Epoch 17/50\n",
            "1050/1050 [==============================] - 1s 1ms/step - loss: 0.1461 - accuracy: 0.9454 - val_loss: 0.1439 - val_accuracy: 0.9477\n",
            "Epoch 18/50\n",
            "1050/1050 [==============================] - 2s 2ms/step - loss: 0.1459 - accuracy: 0.9455 - val_loss: 0.1562 - val_accuracy: 0.9413\n",
            "Epoch 19/50\n",
            "1050/1050 [==============================] - 2s 2ms/step - loss: 0.1432 - accuracy: 0.9460 - val_loss: 0.1419 - val_accuracy: 0.9495\n",
            "Epoch 20/50\n",
            "1050/1050 [==============================] - 2s 2ms/step - loss: 0.1397 - accuracy: 0.9477 - val_loss: 0.1449 - val_accuracy: 0.9481\n",
            "Epoch 21/50\n",
            "1050/1050 [==============================] - 1s 1ms/step - loss: 0.1374 - accuracy: 0.9486 - val_loss: 0.1420 - val_accuracy: 0.9509\n",
            "Epoch 22/50\n",
            "1050/1050 [==============================] - 1s 1ms/step - loss: 0.1363 - accuracy: 0.9489 - val_loss: 0.1439 - val_accuracy: 0.9489\n",
            "Epoch 23/50\n",
            "1050/1050 [==============================] - 2s 2ms/step - loss: 0.1333 - accuracy: 0.9501 - val_loss: 0.1530 - val_accuracy: 0.9468\n",
            "Epoch 24/50\n",
            "1050/1050 [==============================] - 2s 2ms/step - loss: 0.1320 - accuracy: 0.9507 - val_loss: 0.1415 - val_accuracy: 0.9518\n",
            "Epoch 25/50\n",
            "1050/1050 [==============================] - 2s 2ms/step - loss: 0.1294 - accuracy: 0.9516 - val_loss: 0.1381 - val_accuracy: 0.9515\n",
            "Epoch 26/50\n",
            "1050/1050 [==============================] - 1s 1ms/step - loss: 0.1262 - accuracy: 0.9528 - val_loss: 0.1421 - val_accuracy: 0.9507\n",
            "Epoch 27/50\n",
            "1050/1050 [==============================] - 2s 1ms/step - loss: 0.1265 - accuracy: 0.9530 - val_loss: 0.1356 - val_accuracy: 0.9545\n",
            "Epoch 28/50\n",
            "1050/1050 [==============================] - 2s 2ms/step - loss: 0.1230 - accuracy: 0.9543 - val_loss: 0.1411 - val_accuracy: 0.9531\n",
            "Epoch 29/50\n",
            "1050/1050 [==============================] - 2s 2ms/step - loss: 0.1238 - accuracy: 0.9537 - val_loss: 0.1393 - val_accuracy: 0.9497\n",
            "Epoch 30/50\n",
            "1050/1050 [==============================] - 2s 2ms/step - loss: 0.1202 - accuracy: 0.9558 - val_loss: 0.1490 - val_accuracy: 0.9499\n",
            "Epoch 31/50\n",
            "1050/1050 [==============================] - 2s 2ms/step - loss: 0.1198 - accuracy: 0.9559 - val_loss: 0.1412 - val_accuracy: 0.9528\n",
            "Epoch 32/50\n",
            "1050/1050 [==============================] - 2s 2ms/step - loss: 0.1191 - accuracy: 0.9561 - val_loss: 0.1365 - val_accuracy: 0.9551\n",
            "Epoch 33/50\n",
            "1050/1050 [==============================] - 2s 2ms/step - loss: 0.1142 - accuracy: 0.9577 - val_loss: 0.1390 - val_accuracy: 0.9534\n",
            "Epoch 34/50\n",
            "1050/1050 [==============================] - 2s 2ms/step - loss: 0.1147 - accuracy: 0.9568 - val_loss: 0.1335 - val_accuracy: 0.9555\n",
            "Epoch 35/50\n",
            "1050/1050 [==============================] - 2s 2ms/step - loss: 0.1119 - accuracy: 0.9585 - val_loss: 0.1372 - val_accuracy: 0.9536\n",
            "Epoch 36/50\n",
            "1050/1050 [==============================] - 2s 2ms/step - loss: 0.1133 - accuracy: 0.9583 - val_loss: 0.1300 - val_accuracy: 0.9583\n",
            "Epoch 37/50\n",
            "1050/1050 [==============================] - 2s 2ms/step - loss: 0.1111 - accuracy: 0.9582 - val_loss: 0.1328 - val_accuracy: 0.9555\n",
            "Epoch 38/50\n",
            "1050/1050 [==============================] - 2s 2ms/step - loss: 0.1094 - accuracy: 0.9590 - val_loss: 0.1341 - val_accuracy: 0.9544\n",
            "Epoch 39/50\n",
            "1050/1050 [==============================] - 2s 2ms/step - loss: 0.1097 - accuracy: 0.9598 - val_loss: 0.1369 - val_accuracy: 0.9543\n",
            "Epoch 40/50\n",
            "1050/1050 [==============================] - 2s 2ms/step - loss: 0.1074 - accuracy: 0.9599 - val_loss: 0.1418 - val_accuracy: 0.9538\n",
            "Epoch 41/50\n",
            "1050/1050 [==============================] - 2s 2ms/step - loss: 0.1058 - accuracy: 0.9606 - val_loss: 0.1311 - val_accuracy: 0.9589\n",
            "Epoch 42/50\n",
            "1050/1050 [==============================] - 2s 2ms/step - loss: 0.1049 - accuracy: 0.9610 - val_loss: 0.1434 - val_accuracy: 0.9547\n",
            "Epoch 43/50\n",
            "1050/1050 [==============================] - 2s 2ms/step - loss: 0.1032 - accuracy: 0.9620 - val_loss: 0.1340 - val_accuracy: 0.9569\n",
            "Epoch 44/50\n",
            "1050/1050 [==============================] - 2s 2ms/step - loss: 0.1012 - accuracy: 0.9629 - val_loss: 0.1293 - val_accuracy: 0.9595\n",
            "Epoch 45/50\n",
            "1050/1050 [==============================] - 2s 1ms/step - loss: 0.1021 - accuracy: 0.9613 - val_loss: 0.1401 - val_accuracy: 0.9571\n",
            "Epoch 46/50\n",
            "1050/1050 [==============================] - 2s 2ms/step - loss: 0.1019 - accuracy: 0.9623 - val_loss: 0.1304 - val_accuracy: 0.9569\n",
            "Epoch 47/50\n",
            "1050/1050 [==============================] - 2s 2ms/step - loss: 0.0982 - accuracy: 0.9633 - val_loss: 0.1394 - val_accuracy: 0.9556\n",
            "Epoch 48/50\n",
            "1050/1050 [==============================] - 2s 1ms/step - loss: 0.0974 - accuracy: 0.9640 - val_loss: 0.1393 - val_accuracy: 0.9571\n",
            "Epoch 49/50\n",
            "1050/1050 [==============================] - 2s 2ms/step - loss: 0.0991 - accuracy: 0.9633 - val_loss: 0.1455 - val_accuracy: 0.9519\n",
            "Epoch 50/50\n",
            "1050/1050 [==============================] - 2s 1ms/step - loss: 0.0970 - accuracy: 0.9639 - val_loss: 0.1352 - val_accuracy: 0.9587\n"
          ],
          "name": "stdout"
        }
      ]
    },
    {
      "cell_type": "code",
      "metadata": {
        "id": "ISTFx7nnvijQ",
        "outputId": "5edf7ce8-b817-4cc6-a7bf-08ed15065652",
        "colab": {
          "base_uri": "https://localhost:8080/"
        }
      },
      "source": [
        "nn.evaluate(X_test, y_test)"
      ],
      "execution_count": 69,
      "outputs": [
        {
          "output_type": "stream",
          "text": [
            "329/329 [==============================] - 0s 791us/step - loss: 0.1384 - accuracy: 0.9566\n"
          ],
          "name": "stdout"
        },
        {
          "output_type": "execute_result",
          "data": {
            "text/plain": [
              "[0.1383989453315735, 0.9565590023994446]"
            ]
          },
          "metadata": {
            "tags": []
          },
          "execution_count": 69
        }
      ]
    },
    {
      "cell_type": "code",
      "metadata": {
        "id": "-8Piw3O7v1PZ"
      },
      "source": [
        ""
      ],
      "execution_count": 69,
      "outputs": []
    },
    {
      "cell_type": "code",
      "metadata": {
        "id": "uFGwLrM_3ymd",
        "outputId": "ecaf6dfc-efc7-4e6a-d9b2-eef0411caeb0",
        "colab": {
          "base_uri": "https://localhost:8080/",
          "height": 299
        }
      },
      "source": [
        "loss_train = hist.history['loss']\n",
        "loss_val = hist.history['val_loss']\n",
        "epochs = range(1,51)\n",
        "\n",
        "plt.plot(epochs, loss_train, 'k', label='Training loss')\n",
        "plt.plot(epochs, loss_val, 'r', label='validation loss')\n",
        "\n",
        "plt.xlabel('Epochs')\n",
        "plt.ylabel('Loss')\n",
        "plt.legend()\n",
        "plt.show()"
      ],
      "execution_count": 70,
      "outputs": [
        {
          "output_type": "display_data",
          "data": {
            "image/png": "[encoded data removed]",
            "text/plain": [
              "<Figure size 432x288 with 1 Axes>"
            ]
          },
          "metadata": {
            "tags": [],
            "needs_background": "light"
          }
        }
      ]
    },
    {
      "cell_type": "code",
      "metadata": {
        "id": "3f-MoPfx433Y",
        "outputId": "9f319c12-c019-4af7-887d-dc9cbb861217",
        "colab": {
          "base_uri": "https://localhost:8080/",
          "height": 315
        }
      },
      "source": [
        "loss_train = hist.history['accuracy']\n",
        "loss_val = hist.history['val_accuracy']\n",
        "\n",
        "epochs = range(1,51)\n",
        "\n",
        "plt.plot(epochs, loss_train, 'k', label='Training accuracy')\n",
        "plt.plot(epochs, loss_val, 'r', label='validation accuracy')\n",
        "\n",
        "plt.title('Training and Validation accuracy')\n",
        "plt.xlabel('Epochs')\n",
        "plt.ylabel('Accuracy')\n",
        "plt.legend()\n",
        "plt.show()"
      ],
      "execution_count": 71,
      "outputs": [
        {
          "output_type": "display_data",
          "data": {
            "image/png": "[encoded data removed]",
            "text/plain": [
              "<Figure size 432x288 with 1 Axes>"
            ]
          },
          "metadata": {
            "tags": [],
            "needs_background": "light"
          }
        }
      ]
    },
    {
      "cell_type": "code",
      "metadata": {
        "id": "3k4Fa-u9wTYh"
      },
      "source": [
        ""
      ],
      "execution_count": null,
      "outputs": []
    },
    {
      "cell_type": "code",
      "metadata": {
        "id": "rYDDQDvZwTTT"
      },
      "source": [
        ""
      ],
      "execution_count": null,
      "outputs": []
    },
    {
      "cell_type": "code",
      "metadata": {
        "id": "VOLph1fNwTQo"
      },
      "source": [
        "# Going for KNN\n",
        "from sklearn.metrics import accuracy_score\n",
        "from sklearn.neighbors import KNeighborsClassifier\n",
        "\n",
        "knn=KNeighborsClassifier(n_neighbors=5)"
      ],
      "execution_count": 79,
      "outputs": []
    },
    {
      "cell_type": "code",
      "metadata": {
        "id": "N2iORF_Exi1c",
        "outputId": "65463995-e5c8-44ca-fbd6-275e38a3598e",
        "colab": {
          "base_uri": "https://localhost:8080/"
        }
      },
      "source": [
        "knn.fit(X_train,y_tr)"
      ],
      "execution_count": 80,
      "outputs": [
        {
          "output_type": "execute_result",
          "data": {
            "text/plain": [
              "KNeighborsClassifier(algorithm='auto', leaf_size=30, metric='minkowski',\n",
              "                     metric_params=None, n_jobs=None, n_neighbors=5, p=2,\n",
              "                     weights='uniform')"
            ]
          },
          "metadata": {
            "tags": []
          },
          "execution_count": 80
        }
      ]
    },
    {
      "cell_type": "code",
      "metadata": {
        "id": "NkB24W9AxZoY",
        "outputId": "398c8665-864b-4e73-ac36-7a3e84927dd0",
        "colab": {
          "base_uri": "https://localhost:8080/"
        }
      },
      "source": [
        "y_pred_knn=knn.predict(X_test)\n",
        "print(\"accuracy KNN= \",accuracy_score(t_te,y_pred_knn))"
      ],
      "execution_count": 83,
      "outputs": [
        {
          "output_type": "stream",
          "text": [
            "accuracy KNN=  0.9619891397542155\n"
          ],
          "name": "stdout"
        }
      ]
    },
    {
      "cell_type": "code",
      "metadata": {
        "id": "bWFBwn02xj79"
      },
      "source": [
        ""
      ],
      "execution_count": null,
      "outputs": []
    },
    {
      "cell_type": "code",
      "metadata": {
        "id": "s7OmIJkhxtNZ"
      },
      "source": [
        "# Going for SVM\n"
      ],
      "execution_count": null,
      "outputs": []
    },
    {
      "cell_type": "code",
      "metadata": {
        "id": "Lsgrhh5l4-VO"
      },
      "source": [
        "from sklearn.svm import SVC"
      ],
      "execution_count": 84,
      "outputs": []
    },
    {
      "cell_type": "code",
      "metadata": {
        "id": "nf57NSHU7KJb",
        "outputId": "72c5a5c9-51db-4446-cd8f-024e7425d5e2",
        "colab": {
          "base_uri": "https://localhost:8080/"
        }
      },
      "source": [
        "SVCClf = SVC(kernel = 'linear',gamma = 'scale', shrinking = False,)\n",
        "\n",
        "SVCClf.fit(X_train, y_tr)"
      ],
      "execution_count": 85,
      "outputs": [
        {
          "output_type": "execute_result",
          "data": {
            "text/plain": [
              "SVC(C=1.0, break_ties=False, cache_size=200, class_weight=None, coef0=0.0,\n",
              "    decision_function_shape='ovr', degree=3, gamma='scale', kernel='linear',\n",
              "    max_iter=-1, probability=False, random_state=None, shrinking=False,\n",
              "    tol=0.001, verbose=False)"
            ]
          },
          "metadata": {
            "tags": []
          },
          "execution_count": 85
        }
      ]
    },
    {
      "cell_type": "code",
      "metadata": {
        "id": "z0zy8sSN7QSX"
      },
      "source": [
        "y_preds= SVCClf.predict(X_test)"
      ],
      "execution_count": 86,
      "outputs": []
    },
    {
      "cell_type": "code",
      "metadata": {
        "id": "AcqPeK1-7X4X",
        "outputId": "147b8fba-b179-4c93-beec-0922cacb1448",
        "colab": {
          "base_uri": "https://localhost:8080/"
        }
      },
      "source": [
        "from sklearn.metrics import accuracy_score, confusion_matrix\n",
        "\n",
        "print('Accuracy : ', accuracy_score(t_te, y_preds))"
      ],
      "execution_count": 87,
      "outputs": [
        {
          "output_type": "stream",
          "text": [
            "Accuracy :  0.8931123178050872\n"
          ],
          "name": "stdout"
        }
      ]
    },
    {
      "cell_type": "code",
      "metadata": {
        "id": "GJ-GDT2Dx3-l"
      },
      "source": [
        ""
      ],
      "execution_count": null,
      "outputs": []
    }
  ]
}