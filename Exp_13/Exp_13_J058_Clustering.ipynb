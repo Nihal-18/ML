{
  "nbformat": 4,
  "nbformat_minor": 0,
  "metadata": {
    "colab": {
      "name": "Exp_13_J058_Clustering.ipynb",
      "provenance": [],
      "authorship_tag": "ABX9TyP4/BIEygICNnUQV5k+TB7X",
      "include_colab_link": true
    },
    "kernelspec": {
      "name": "python3",
      "display_name": "Python 3"
    }
  },
  "cells": [
    {
      "cell_type": "markdown",
      "metadata": {
        "id": "view-in-github",
        "colab_type": "text"
      },
      "source": [
        "<a href=\"https://colab.research.google.com/github/Nihal-18/ML/blob/master/Exp_13/Exp_13_J058_Clustering.ipynb\" target=\"_parent\"><img src=\"https://colab.research.google.com/assets/colab-badge.svg\" alt=\"Open In Colab\"/></a>"
      ]
    },
    {
      "cell_type": "code",
      "metadata": {
        "id": "C2bmDoeV5_Nx"
      },
      "source": [
        "import pandas as pd \n"
      ],
      "execution_count": 12,
      "outputs": []
    },
    {
      "cell_type": "code",
      "metadata": {
        "id": "3SoOGgSz6dPZ",
        "outputId": "07f7b384-2a53-48bd-8d8f-8490143d2e94",
        "colab": {
          "base_uri": "https://localhost:8080/"
        }
      },
      "source": [
        "!wget -O AirQualityUCI.zip https://archive.ics.uci.edu/ml/machine-learning-databases/00360/AirQualityUCI.zip\n",
        "!unzip AirQualityUCI.zip\n",
        "df = pd.read_excel('/content/AirQualityUCI.xlsx', parse_dates=[['Date', 'Time']])\n",
        "df.replace(to_replace=-200.0, value=0.0, inplace=True)\n",
        "wv = df['NMHC(GT)']\n",
        "bad_wv = wv == -200.0\n",
        "wv[bad_wv] = 0.0\n"
      ],
      "execution_count": 2,
      "outputs": [
        {
          "output_type": "stream",
          "text": [
            "--2020-10-30 05:13:09--  https://archive.ics.uci.edu/ml/machine-learning-databases/00360/AirQualityUCI.zip\n",
            "Resolving archive.ics.uci.edu (archive.ics.uci.edu)... 128.195.10.252\n",
            "Connecting to archive.ics.uci.edu (archive.ics.uci.edu)|128.195.10.252|:443... connected.\n",
            "HTTP request sent, awaiting response... 200 OK\n",
            "Length: 1543989 (1.5M) [application/x-httpd-php]\n",
            "Saving to: ‘AirQualityUCI.zip’\n",
            "\n",
            "AirQualityUCI.zip   100%[===================>]   1.47M  1.57MB/s    in 0.9s    \n",
            "\n",
            "2020-10-30 05:13:10 (1.57 MB/s) - ‘AirQualityUCI.zip’ saved [1543989/1543989]\n",
            "\n",
            "Archive:  AirQualityUCI.zip\n",
            "  inflating: AirQualityUCI.csv       \n",
            "  inflating: AirQualityUCI.xlsx      \n"
          ],
          "name": "stdout"
        },
        {
          "output_type": "stream",
          "text": [
            "/usr/local/lib/python3.6/dist-packages/ipykernel_launcher.py:7: SettingWithCopyWarning: \n",
            "A value is trying to be set on a copy of a slice from a DataFrame\n",
            "\n",
            "See the caveats in the documentation: https://pandas.pydata.org/pandas-docs/stable/user_guide/indexing.html#returning-a-view-versus-a-copy\n",
            "  import sys\n"
          ],
          "name": "stderr"
        }
      ]
    },
    {
      "cell_type": "code",
      "metadata": {
        "id": "zAwLho2g7H2G"
      },
      "source": [
        "data= df"
      ],
      "execution_count": 5,
      "outputs": []
    },
    {
      "cell_type": "code",
      "metadata": {
        "id": "Gg_9EJ0w7q8X",
        "outputId": "024541e4-3eb3-4d65-9741-c5165c4b8e57",
        "colab": {
          "base_uri": "https://localhost:8080/",
          "height": 228
        }
      },
      "source": [
        "data.head()"
      ],
      "execution_count": 13,
      "outputs": [
        {
          "output_type": "execute_result",
          "data": {
            "text/html": [
              "<div>\n",
              "<style scoped>\n",
              "    .dataframe tbody tr th:only-of-type {\n",
              "        vertical-align: middle;\n",
              "    }\n",
              "\n",
              "    .dataframe tbody tr th {\n",
              "        vertical-align: top;\n",
              "    }\n",
              "\n",
              "    .dataframe thead th {\n",
              "        text-align: right;\n",
              "    }\n",
              "</style>\n",
              "<table border=\"1\" class=\"dataframe\">\n",
              "  <thead>\n",
              "    <tr style=\"text-align: right;\">\n",
              "      <th></th>\n",
              "      <th>Date_Time</th>\n",
              "      <th>CO(GT)</th>\n",
              "      <th>PT08.S1(CO)</th>\n",
              "      <th>C6H6(GT)</th>\n",
              "      <th>PT08.S2(NMHC)</th>\n",
              "      <th>NOx(GT)</th>\n",
              "      <th>PT08.S3(NOx)</th>\n",
              "      <th>NO2(GT)</th>\n",
              "      <th>PT08.S4(NO2)</th>\n",
              "      <th>PT08.S5(O3)</th>\n",
              "      <th>T</th>\n",
              "      <th>RH</th>\n",
              "      <th>AH</th>\n",
              "    </tr>\n",
              "  </thead>\n",
              "  <tbody>\n",
              "    <tr>\n",
              "      <th>0</th>\n",
              "      <td>2004-03-10 18:00:00</td>\n",
              "      <td>2.6</td>\n",
              "      <td>1360.00</td>\n",
              "      <td>11.881723</td>\n",
              "      <td>1045.50</td>\n",
              "      <td>166.0</td>\n",
              "      <td>1056.25</td>\n",
              "      <td>113.0</td>\n",
              "      <td>1692.00</td>\n",
              "      <td>1267.50</td>\n",
              "      <td>13.60</td>\n",
              "      <td>48.875001</td>\n",
              "      <td>0.757754</td>\n",
              "    </tr>\n",
              "    <tr>\n",
              "      <th>1</th>\n",
              "      <td>2004-03-10 19:00:00</td>\n",
              "      <td>2.0</td>\n",
              "      <td>1292.25</td>\n",
              "      <td>9.397165</td>\n",
              "      <td>954.75</td>\n",
              "      <td>103.0</td>\n",
              "      <td>1173.75</td>\n",
              "      <td>92.0</td>\n",
              "      <td>1558.75</td>\n",
              "      <td>972.25</td>\n",
              "      <td>13.30</td>\n",
              "      <td>47.700000</td>\n",
              "      <td>0.725487</td>\n",
              "    </tr>\n",
              "    <tr>\n",
              "      <th>2</th>\n",
              "      <td>2004-03-10 20:00:00</td>\n",
              "      <td>2.2</td>\n",
              "      <td>1402.00</td>\n",
              "      <td>8.997817</td>\n",
              "      <td>939.25</td>\n",
              "      <td>131.0</td>\n",
              "      <td>1140.00</td>\n",
              "      <td>114.0</td>\n",
              "      <td>1554.50</td>\n",
              "      <td>1074.00</td>\n",
              "      <td>11.90</td>\n",
              "      <td>53.975000</td>\n",
              "      <td>0.750239</td>\n",
              "    </tr>\n",
              "    <tr>\n",
              "      <th>3</th>\n",
              "      <td>2004-03-10 21:00:00</td>\n",
              "      <td>2.2</td>\n",
              "      <td>1375.50</td>\n",
              "      <td>9.228796</td>\n",
              "      <td>948.25</td>\n",
              "      <td>172.0</td>\n",
              "      <td>1092.00</td>\n",
              "      <td>122.0</td>\n",
              "      <td>1583.75</td>\n",
              "      <td>1203.25</td>\n",
              "      <td>11.00</td>\n",
              "      <td>60.000000</td>\n",
              "      <td>0.786713</td>\n",
              "    </tr>\n",
              "    <tr>\n",
              "      <th>4</th>\n",
              "      <td>2004-03-10 22:00:00</td>\n",
              "      <td>1.6</td>\n",
              "      <td>1272.25</td>\n",
              "      <td>6.518224</td>\n",
              "      <td>835.50</td>\n",
              "      <td>131.0</td>\n",
              "      <td>1205.00</td>\n",
              "      <td>116.0</td>\n",
              "      <td>1490.00</td>\n",
              "      <td>1110.00</td>\n",
              "      <td>11.15</td>\n",
              "      <td>59.575001</td>\n",
              "      <td>0.788794</td>\n",
              "    </tr>\n",
              "  </tbody>\n",
              "</table>\n",
              "</div>"
            ],
            "text/plain": [
              "            Date_Time  CO(GT)  PT08.S1(CO)  ...      T         RH        AH\n",
              "0 2004-03-10 18:00:00     2.6      1360.00  ...  13.60  48.875001  0.757754\n",
              "1 2004-03-10 19:00:00     2.0      1292.25  ...  13.30  47.700000  0.725487\n",
              "2 2004-03-10 20:00:00     2.2      1402.00  ...  11.90  53.975000  0.750239\n",
              "3 2004-03-10 21:00:00     2.2      1375.50  ...  11.00  60.000000  0.786713\n",
              "4 2004-03-10 22:00:00     1.6      1272.25  ...  11.15  59.575001  0.788794\n",
              "\n",
              "[5 rows x 13 columns]"
            ]
          },
          "metadata": {
            "tags": []
          },
          "execution_count": 13
        }
      ]
    },
    {
      "cell_type": "code",
      "metadata": {
        "id": "hvR_Nb8O7qvO"
      },
      "source": [
        ""
      ],
      "execution_count": null,
      "outputs": []
    },
    {
      "cell_type": "code",
      "metadata": {
        "id": "IQ7DhgC67PWv",
        "outputId": "ae14cfec-bee4-4476-e91c-982bc1e7d694",
        "colab": {
          "base_uri": "https://localhost:8080/",
          "height": 323
        }
      },
      "source": [
        "data.describe()"
      ],
      "execution_count": 6,
      "outputs": [
        {
          "output_type": "execute_result",
          "data": {
            "text/html": [
              "<div>\n",
              "<style scoped>\n",
              "    .dataframe tbody tr th:only-of-type {\n",
              "        vertical-align: middle;\n",
              "    }\n",
              "\n",
              "    .dataframe tbody tr th {\n",
              "        vertical-align: top;\n",
              "    }\n",
              "\n",
              "    .dataframe thead th {\n",
              "        text-align: right;\n",
              "    }\n",
              "</style>\n",
              "<table border=\"1\" class=\"dataframe\">\n",
              "  <thead>\n",
              "    <tr style=\"text-align: right;\">\n",
              "      <th></th>\n",
              "      <th>CO(GT)</th>\n",
              "      <th>PT08.S1(CO)</th>\n",
              "      <th>NMHC(GT)</th>\n",
              "      <th>C6H6(GT)</th>\n",
              "      <th>PT08.S2(NMHC)</th>\n",
              "      <th>NOx(GT)</th>\n",
              "      <th>PT08.S3(NOx)</th>\n",
              "      <th>NO2(GT)</th>\n",
              "      <th>PT08.S4(NO2)</th>\n",
              "      <th>PT08.S5(O3)</th>\n",
              "      <th>T</th>\n",
              "      <th>RH</th>\n",
              "      <th>AH</th>\n",
              "    </tr>\n",
              "  </thead>\n",
              "  <tbody>\n",
              "    <tr>\n",
              "      <th>count</th>\n",
              "      <td>9357.000000</td>\n",
              "      <td>9357.000000</td>\n",
              "      <td>9357.000000</td>\n",
              "      <td>9357.000000</td>\n",
              "      <td>9357.000000</td>\n",
              "      <td>9357.000000</td>\n",
              "      <td>9357.000000</td>\n",
              "      <td>9357.000000</td>\n",
              "      <td>9357.000000</td>\n",
              "      <td>9357.000000</td>\n",
              "      <td>9357.00000</td>\n",
              "      <td>9357.000000</td>\n",
              "      <td>9357.000000</td>\n",
              "    </tr>\n",
              "    <tr>\n",
              "      <th>mean</th>\n",
              "      <td>1.765545</td>\n",
              "      <td>1056.692672</td>\n",
              "      <td>21.373731</td>\n",
              "      <td>9.688596</td>\n",
              "      <td>902.298983</td>\n",
              "      <td>203.636796</td>\n",
              "      <td>802.695353</td>\n",
              "      <td>93.232617</td>\n",
              "      <td>1399.186287</td>\n",
              "      <td>982.774554</td>\n",
              "      <td>17.59962</td>\n",
              "      <td>47.306631</td>\n",
              "      <td>0.985416</td>\n",
              "    </tr>\n",
              "    <tr>\n",
              "      <th>std</th>\n",
              "      <td>1.554264</td>\n",
              "      <td>301.232260</td>\n",
              "      <td>91.103489</td>\n",
              "      <td>7.559609</td>\n",
              "      <td>318.681183</td>\n",
              "      <td>214.984126</td>\n",
              "      <td>299.341439</td>\n",
              "      <td>61.468588</td>\n",
              "      <td>441.442059</td>\n",
              "      <td>438.060087</td>\n",
              "      <td>9.35832</td>\n",
              "      <td>19.473998</td>\n",
              "      <td>0.442966</td>\n",
              "    </tr>\n",
              "    <tr>\n",
              "      <th>min</th>\n",
              "      <td>0.000000</td>\n",
              "      <td>0.000000</td>\n",
              "      <td>0.000000</td>\n",
              "      <td>0.000000</td>\n",
              "      <td>0.000000</td>\n",
              "      <td>0.000000</td>\n",
              "      <td>0.000000</td>\n",
              "      <td>0.000000</td>\n",
              "      <td>0.000000</td>\n",
              "      <td>0.000000</td>\n",
              "      <td>-1.90000</td>\n",
              "      <td>0.000000</td>\n",
              "      <td>0.000000</td>\n",
              "    </tr>\n",
              "    <tr>\n",
              "      <th>25%</th>\n",
              "      <td>0.600000</td>\n",
              "      <td>921.000000</td>\n",
              "      <td>0.000000</td>\n",
              "      <td>4.004958</td>\n",
              "      <td>711.000000</td>\n",
              "      <td>50.000000</td>\n",
              "      <td>637.000000</td>\n",
              "      <td>53.000000</td>\n",
              "      <td>1184.750000</td>\n",
              "      <td>699.750000</td>\n",
              "      <td>10.95000</td>\n",
              "      <td>34.050000</td>\n",
              "      <td>0.692275</td>\n",
              "    </tr>\n",
              "    <tr>\n",
              "      <th>50%</th>\n",
              "      <td>1.500000</td>\n",
              "      <td>1052.500000</td>\n",
              "      <td>0.000000</td>\n",
              "      <td>7.886653</td>\n",
              "      <td>894.500000</td>\n",
              "      <td>141.000000</td>\n",
              "      <td>794.250000</td>\n",
              "      <td>96.000000</td>\n",
              "      <td>1445.500000</td>\n",
              "      <td>942.000000</td>\n",
              "      <td>17.20000</td>\n",
              "      <td>48.550000</td>\n",
              "      <td>0.976823</td>\n",
              "    </tr>\n",
              "    <tr>\n",
              "      <th>75%</th>\n",
              "      <td>2.600000</td>\n",
              "      <td>1221.250000</td>\n",
              "      <td>0.000000</td>\n",
              "      <td>13.636091</td>\n",
              "      <td>1104.750000</td>\n",
              "      <td>284.200000</td>\n",
              "      <td>960.250000</td>\n",
              "      <td>133.000000</td>\n",
              "      <td>1662.000000</td>\n",
              "      <td>1255.250000</td>\n",
              "      <td>24.07500</td>\n",
              "      <td>61.875000</td>\n",
              "      <td>1.296223</td>\n",
              "    </tr>\n",
              "    <tr>\n",
              "      <th>max</th>\n",
              "      <td>11.900000</td>\n",
              "      <td>2039.750000</td>\n",
              "      <td>1189.000000</td>\n",
              "      <td>63.741476</td>\n",
              "      <td>2214.000000</td>\n",
              "      <td>1479.000000</td>\n",
              "      <td>2682.750000</td>\n",
              "      <td>339.700000</td>\n",
              "      <td>2775.000000</td>\n",
              "      <td>2522.750000</td>\n",
              "      <td>44.60000</td>\n",
              "      <td>88.725000</td>\n",
              "      <td>2.231036</td>\n",
              "    </tr>\n",
              "  </tbody>\n",
              "</table>\n",
              "</div>"
            ],
            "text/plain": [
              "            CO(GT)  PT08.S1(CO)  ...           RH           AH\n",
              "count  9357.000000  9357.000000  ...  9357.000000  9357.000000\n",
              "mean      1.765545  1056.692672  ...    47.306631     0.985416\n",
              "std       1.554264   301.232260  ...    19.473998     0.442966\n",
              "min       0.000000     0.000000  ...     0.000000     0.000000\n",
              "25%       0.600000   921.000000  ...    34.050000     0.692275\n",
              "50%       1.500000  1052.500000  ...    48.550000     0.976823\n",
              "75%       2.600000  1221.250000  ...    61.875000     1.296223\n",
              "max      11.900000  2039.750000  ...    88.725000     2.231036\n",
              "\n",
              "[8 rows x 13 columns]"
            ]
          },
          "metadata": {
            "tags": []
          },
          "execution_count": 6
        }
      ]
    },
    {
      "cell_type": "code",
      "metadata": {
        "id": "JX8Kyfm07X19",
        "outputId": "6809a73d-9295-4c4b-d6e8-ad8b6907d11c",
        "colab": {
          "base_uri": "https://localhost:8080/"
        }
      },
      "source": [
        "data.shape"
      ],
      "execution_count": 7,
      "outputs": [
        {
          "output_type": "execute_result",
          "data": {
            "text/plain": [
              "(9357, 14)"
            ]
          },
          "metadata": {
            "tags": []
          },
          "execution_count": 7
        }
      ]
    },
    {
      "cell_type": "code",
      "metadata": {
        "id": "DWWMWvN27aEN"
      },
      "source": [
        "import numpy as np\n",
        "data.replace(to_replace = -200,value = np.NaN , inplace = True )"
      ],
      "execution_count": 8,
      "outputs": []
    },
    {
      "cell_type": "code",
      "metadata": {
        "id": "ygoPxdBg7cLb",
        "outputId": "054a038f-025a-4dc7-e37c-e0f572e1150e",
        "colab": {
          "base_uri": "https://localhost:8080/"
        }
      },
      "source": [
        "num = data.isnull().sum()\n",
        "percent = num/data.shape[0]*100\n",
        "percent"
      ],
      "execution_count": 9,
      "outputs": [
        {
          "output_type": "execute_result",
          "data": {
            "text/plain": [
              "Date_Time        0.0\n",
              "CO(GT)           0.0\n",
              "PT08.S1(CO)      0.0\n",
              "NMHC(GT)         0.0\n",
              "C6H6(GT)         0.0\n",
              "PT08.S2(NMHC)    0.0\n",
              "NOx(GT)          0.0\n",
              "PT08.S3(NOx)     0.0\n",
              "NO2(GT)          0.0\n",
              "PT08.S4(NO2)     0.0\n",
              "PT08.S5(O3)      0.0\n",
              "T                0.0\n",
              "RH               0.0\n",
              "AH               0.0\n",
              "dtype: float64"
            ]
          },
          "metadata": {
            "tags": []
          },
          "execution_count": 9
        }
      ]
    },
    {
      "cell_type": "code",
      "metadata": {
        "id": "MENAcfpy7eVQ",
        "outputId": "7633127f-fcdc-4e3b-9f2b-1d8dea5a2117",
        "colab": {
          "base_uri": "https://localhost:8080/"
        }
      },
      "source": [
        "data.drop(['NMHC(GT)'], axis= 1, inplace= True)\n",
        "num = data.isnull().sum()\n",
        "percent = num/data.shape[0]*100\n",
        "percent"
      ],
      "execution_count": 10,
      "outputs": [
        {
          "output_type": "execute_result",
          "data": {
            "text/plain": [
              "Date_Time        0.0\n",
              "CO(GT)           0.0\n",
              "PT08.S1(CO)      0.0\n",
              "C6H6(GT)         0.0\n",
              "PT08.S2(NMHC)    0.0\n",
              "NOx(GT)          0.0\n",
              "PT08.S3(NOx)     0.0\n",
              "NO2(GT)          0.0\n",
              "PT08.S4(NO2)     0.0\n",
              "PT08.S5(O3)      0.0\n",
              "T                0.0\n",
              "RH               0.0\n",
              "AH               0.0\n",
              "dtype: float64"
            ]
          },
          "metadata": {
            "tags": []
          },
          "execution_count": 10
        }
      ]
    },
    {
      "cell_type": "code",
      "metadata": {
        "id": "xQSznAGV7gdp"
      },
      "source": [
        "data[\"T\"] = data.groupby(\"Date_Time\")[\"T\"].transform(lambda x: x.fillna(x.mean()))\n",
        "data[\"CO(GT)\"] = data.groupby(\"Date_Time\")[\"CO(GT)\"].transform(lambda x: x.fillna(x.mean()))\n",
        "data[\"NOx(GT)\"] = data.groupby(\"Date_Time\")[\"NOx(GT)\"].transform(lambda x: x.fillna(x.mean()))\n",
        "data[\"NO2(GT)\"] = data.groupby(\"Date_Time\")[\"NO2(GT)\"].transform(lambda x: x.fillna(x.mean()))"
      ],
      "execution_count": 14,
      "outputs": []
    },
    {
      "cell_type": "code",
      "metadata": {
        "id": "BwDGSJmO7i8X",
        "outputId": "555d74f6-ed81-45c2-d88a-9d892cefde15",
        "colab": {
          "base_uri": "https://localhost:8080/"
        }
      },
      "source": [
        "num = data.isnull().sum()\n",
        "percent = num/data.shape[0]*100\n",
        "percent"
      ],
      "execution_count": 15,
      "outputs": [
        {
          "output_type": "execute_result",
          "data": {
            "text/plain": [
              "Date_Time        0.0\n",
              "CO(GT)           0.0\n",
              "PT08.S1(CO)      0.0\n",
              "C6H6(GT)         0.0\n",
              "PT08.S2(NMHC)    0.0\n",
              "NOx(GT)          0.0\n",
              "PT08.S3(NOx)     0.0\n",
              "NO2(GT)          0.0\n",
              "PT08.S4(NO2)     0.0\n",
              "PT08.S5(O3)      0.0\n",
              "T                0.0\n",
              "RH               0.0\n",
              "AH               0.0\n",
              "dtype: float64"
            ]
          },
          "metadata": {
            "tags": []
          },
          "execution_count": 15
        }
      ]
    },
    {
      "cell_type": "code",
      "metadata": {
        "id": "I-WGgab-708Q",
        "outputId": "1f0eac7e-68a5-4ec1-996f-8687221d4f8b",
        "colab": {
          "base_uri": "https://localhost:8080/",
          "height": 372
        }
      },
      "source": [
        "import seaborn as sns\n",
        "sns.heatmap(data.isnull(),yticklabels=False,cbar=False,cmap='viridis')"
      ],
      "execution_count": 16,
      "outputs": [
        {
          "output_type": "execute_result",
          "data": {
            "text/plain": [
              "<matplotlib.axes._subplots.AxesSubplot at 0x7f0fac739860>"
            ]
          },
          "metadata": {
            "tags": []
          },
          "execution_count": 16
        },
        {
          "output_type": "display_data",
          "data": {
            "image/png": "[encoded data removed]",
            "text/plain": [
              "<Figure size 432x288 with 1 Axes>"
            ]
          },
          "metadata": {
            "tags": [],
            "needs_background": "light"
          }
        }
      ]
    },
    {
      "cell_type": "code",
      "metadata": {
        "id": "2QPB41mQ74Jj"
      },
      "source": [
        "data.fillna(method='ffill', inplace= True)"
      ],
      "execution_count": 17,
      "outputs": []
    },
    {
      "cell_type": "code",
      "metadata": {
        "id": "TYYWKFcu76YT",
        "outputId": "179f9b23-ff38-49bf-a1be-b44f1c98f8dc",
        "colab": {
          "base_uri": "https://localhost:8080/"
        }
      },
      "source": [
        "num = data.isnull().sum()\n",
        "percent = num/data.shape[0]*100\n",
        "percent"
      ],
      "execution_count": 18,
      "outputs": [
        {
          "output_type": "execute_result",
          "data": {
            "text/plain": [
              "Date_Time        0.0\n",
              "CO(GT)           0.0\n",
              "PT08.S1(CO)      0.0\n",
              "C6H6(GT)         0.0\n",
              "PT08.S2(NMHC)    0.0\n",
              "NOx(GT)          0.0\n",
              "PT08.S3(NOx)     0.0\n",
              "NO2(GT)          0.0\n",
              "PT08.S4(NO2)     0.0\n",
              "PT08.S5(O3)      0.0\n",
              "T                0.0\n",
              "RH               0.0\n",
              "AH               0.0\n",
              "dtype: float64"
            ]
          },
          "metadata": {
            "tags": []
          },
          "execution_count": 18
        }
      ]
    },
    {
      "cell_type": "code",
      "metadata": {
        "id": "3tjdOSKdB8Hu"
      },
      "source": [
        "X1 = data.drop(['Date_Time'], axis=1, inplace=False)\n",
        "X = X1"
      ],
      "execution_count": 20,
      "outputs": []
    },
    {
      "cell_type": "code",
      "metadata": {
        "id": "eieFcDGLB-ST",
        "outputId": "9e880ddd-9be4-44a2-d6af-42ec6e9e4df4",
        "colab": {
          "base_uri": "https://localhost:8080/"
        }
      },
      "source": [
        "from sklearn.cluster import Birch\n",
        "birch = Birch()\n",
        "birch.fit_predict(X)"
      ],
      "execution_count": 21,
      "outputs": [
        {
          "output_type": "execute_result",
          "data": {
            "text/plain": [
              "array([0, 0, 0, ..., 0, 0, 0])"
            ]
          },
          "metadata": {
            "tags": []
          },
          "execution_count": 21
        }
      ]
    },
    {
      "cell_type": "code",
      "metadata": {
        "id": "GIHnXv21CHtB"
      },
      "source": [
        "import numpy as np\n",
        "from sklearn.cluster import AgglomerativeClustering"
      ],
      "execution_count": 22,
      "outputs": []
    },
    {
      "cell_type": "code",
      "metadata": {
        "id": "sRlj0Q_6CKOu",
        "outputId": "88e14ecf-544d-4e40-99f1-6a4f25bd7ee8",
        "colab": {
          "base_uri": "https://localhost:8080/"
        }
      },
      "source": [
        "agg = AgglomerativeClustering(affinity='euclidean', compute_full_tree='auto',\n",
        "                        connectivity=None, distance_threshold=None,\n",
        "                        linkage='ward', memory=None, n_clusters=2)\n",
        "agg.fit(X)"
      ],
      "execution_count": 23,
      "outputs": [
        {
          "output_type": "execute_result",
          "data": {
            "text/plain": [
              "AgglomerativeClustering(affinity='euclidean', compute_full_tree='auto',\n",
              "                        connectivity=None, distance_threshold=None,\n",
              "                        linkage='ward', memory=None, n_clusters=2)"
            ]
          },
          "metadata": {
            "tags": []
          },
          "execution_count": 23
        }
      ]
    },
    {
      "cell_type": "code",
      "metadata": {
        "id": "tzs80Y6DCMBu"
      },
      "source": [
        "from sklearn.cluster import SpectralClustering"
      ],
      "execution_count": 24,
      "outputs": []
    },
    {
      "cell_type": "code",
      "metadata": {
        "id": "qt4UgOnpCNzz",
        "outputId": "719e9b9e-190d-46ec-c447-c3559a62d2c5",
        "colab": {
          "base_uri": "https://localhost:8080/"
        }
      },
      "source": [
        "spclus = SpectralClustering()\n",
        "spclus.fit(X)"
      ],
      "execution_count": null,
      "outputs": [
        {
          "output_type": "stream",
          "text": [
            "/usr/local/lib/python3.6/dist-packages/sklearn/manifold/_spectral_embedding.py:236: UserWarning: Graph is not fully connected, spectral embedding may not work as expected.\n",
            "  warnings.warn(\"Graph is not fully connected, spectral embedding\"\n"
          ],
          "name": "stderr"
        }
      ]
    },
    {
      "cell_type": "code",
      "metadata": {
        "id": "cvzHnn35CPmt"
      },
      "source": [
        ""
      ],
      "execution_count": null,
      "outputs": []
    }
  ]
}